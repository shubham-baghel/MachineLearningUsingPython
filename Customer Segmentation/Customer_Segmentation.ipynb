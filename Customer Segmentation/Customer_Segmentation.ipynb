{
  "nbformat": 4,
  "nbformat_minor": 0,
  "metadata": {
    "colab": {
      "name": "Customer Segmentation.ipynb",
      "provenance": [],
      "collapsed_sections": [],
      "toc_visible": true
    },
    "kernelspec": {
      "name": "python3",
      "display_name": "Python 3"
    }
  },
  "cells": [
    {
      "cell_type": "markdown",
      "metadata": {
        "id": "o7JYb6yHa2Ob",
        "colab_type": "text"
      },
      "source": [
        "# **1.Customer Segmantation Problem**"
      ]
    },
    {
      "cell_type": "markdown",
      "metadata": {
        "id": "SBDbK1K0bCy8",
        "colab_type": "text"
      },
      "source": [
        "<a id = Section2></a>\n",
        "\n",
        "---\n",
        "# **2. Problem Statement**\n",
        "---\n",
        "\n",
        "At some point, it becomes **impossible** to **focus** on an **individual customer** and **sometimes** the **communication** between customers **become** **complex**. We **need** **a way** out to **understand** our **customers** in **structured** and **shared manner**.\n",
        "\n",
        "<center><img src=\"https://raw.githubusercontent.com/insaid2018/Domain_Case_Studies/master/Retail/Customer%20Segmentation%202.png\"></center>\n",
        "\n",
        "**<h3>Scenario:</h3>**\n",
        "\n",
        "**Knack Grant** is a UK based non-store **online retail company** started in 2009. The company mainly **sells** unique **all-occasion gift-ware**. Many customers of the company are wholesalers. The **company** is **growing** at **rapid speed**. At the **same time** they are **unable** to **catch up** the **customer expectation** and **maintain healthy relationship** i.e failing in Customer Relationship Management(CRM).\n",
        "\n",
        "In order **to tackle this problem**, they **hired a team of data scientists**. They **need** an **automated solution** to **identify** the **customers expectations** and the **future trends** so that they can **engage** with customers in **more structured and shared manner** leading their company to future endavours.\n",
        "\n",
        "**Note:** \n",
        "- This **problem** is a type of **unsupervised learning**, i.e. there is no target present in our data. \n",
        "\n",
        "- We will **clusters customers based on their behavior**.\n",
        "\n",
        "- It will **give** us an **approximation** about the **customer purchasing behavior** **leading** to **better marketing**."
      ]
    },
    {
      "cell_type": "markdown",
      "metadata": {
        "id": "vhWa_DFybIzT",
        "colab_type": "text"
      },
      "source": [
        "<a id = Section3></a>\n",
        "\n",
        "---\n",
        "# **3. Installing & Importing Libraries**\n",
        "---"
      ]
    },
    {
      "cell_type": "markdown",
      "metadata": {
        "id": "Ld1UkHMRbKUF",
        "colab_type": "text"
      },
      "source": [
        "<a id = Section31></a>\n",
        "### **3.1 Installing Libraries**"
      ]
    },
    {
      "cell_type": "code",
      "metadata": {
        "id": "FfqtXW6BbN6H",
        "colab_type": "code",
        "colab": {
          "base_uri": "https://localhost:8080/",
          "height": 50
        },
        "outputId": "deec333f-1d44-42a1-de45-bd1f39481991"
      },
      "source": [
        "!pip install -q datascience                   # Package that is required by pandas profiling\n",
        "!pip install -q pandas-profiling              # Toolbox for Generating Statistics Report"
      ],
      "execution_count": 1,
      "outputs": [
        {
          "output_type": "stream",
          "text": [
            "\u001b[?25l\r\u001b[K     |████▊                           | 10kB 12.2MB/s eta 0:00:01\r\u001b[K     |█████████▍                      | 20kB 1.5MB/s eta 0:00:01\r\u001b[K     |██████████████                  | 30kB 2.2MB/s eta 0:00:01\r\u001b[K     |██████████████████▊             | 40kB 2.4MB/s eta 0:00:01\r\u001b[K     |███████████████████████▍        | 51kB 1.9MB/s eta 0:00:01\r\u001b[K     |████████████████████████████    | 61kB 2.1MB/s eta 0:00:01\r\u001b[K     |████████████████████████████████| 71kB 1.9MB/s \n",
            "\u001b[?25h  Building wheel for folium (setup.py) ... \u001b[?25l\u001b[?25hdone\n"
          ],
          "name": "stdout"
        }
      ]
    },
    {
      "cell_type": "markdown",
      "metadata": {
        "id": "vFtPfnnOeRMA",
        "colab_type": "text"
      },
      "source": [
        "<a id = Section32></a>\n",
        "### **3.2 Upgrading Libraries**\n",
        "\n",
        "**Note:** After upgrading, you need to restart the runtime. Make sure not to execute the cell above (3.1) and below (3.2) again after restarting the runtime."
      ]
    },
    {
      "cell_type": "code",
      "metadata": {
        "id": "q2HGz4laeUIX",
        "colab_type": "code",
        "colab": {
          "base_uri": "https://localhost:8080/",
          "height": 185
        },
        "outputId": "ae8cc253-024d-408d-977d-561b1f0c1945"
      },
      "source": [
        "!pip install -q --upgrade pandas-profiling\n",
        "!pip install -q --upgrade yellowbrick"
      ],
      "execution_count": 2,
      "outputs": [
        {
          "output_type": "stream",
          "text": [
            "\u001b[?25l\r\u001b[K     |█▎                              | 10kB 21.0MB/s eta 0:00:01\r\u001b[K     |██▌                             | 20kB 1.7MB/s eta 0:00:01\r\u001b[K     |███▉                            | 30kB 2.3MB/s eta 0:00:01\r\u001b[K     |█████                           | 40kB 2.5MB/s eta 0:00:01\r\u001b[K     |██████▎                         | 51kB 2.0MB/s eta 0:00:01\r\u001b[K     |███████▋                        | 61kB 2.3MB/s eta 0:00:01\r\u001b[K     |████████▉                       | 71kB 2.5MB/s eta 0:00:01\r\u001b[K     |██████████                      | 81kB 2.7MB/s eta 0:00:01\r\u001b[K     |███████████▍                    | 92kB 2.9MB/s eta 0:00:01\r\u001b[K     |████████████▋                   | 102kB 2.8MB/s eta 0:00:01\r\u001b[K     |█████████████▉                  | 112kB 2.8MB/s eta 0:00:01\r\u001b[K     |███████████████▏                | 122kB 2.8MB/s eta 0:00:01\r\u001b[K     |████████████████▍               | 133kB 2.8MB/s eta 0:00:01\r\u001b[K     |█████████████████▋              | 143kB 2.8MB/s eta 0:00:01\r\u001b[K     |███████████████████             | 153kB 2.8MB/s eta 0:00:01\r\u001b[K     |████████████████████▏           | 163kB 2.8MB/s eta 0:00:01\r\u001b[K     |█████████████████████▍          | 174kB 2.8MB/s eta 0:00:01\r\u001b[K     |██████████████████████▊         | 184kB 2.8MB/s eta 0:00:01\r\u001b[K     |████████████████████████        | 194kB 2.8MB/s eta 0:00:01\r\u001b[K     |█████████████████████████▏      | 204kB 2.8MB/s eta 0:00:01\r\u001b[K     |██████████████████████████▌     | 215kB 2.8MB/s eta 0:00:01\r\u001b[K     |███████████████████████████▊    | 225kB 2.8MB/s eta 0:00:01\r\u001b[K     |█████████████████████████████   | 235kB 2.8MB/s eta 0:00:01\r\u001b[K     |██████████████████████████████▎ | 245kB 2.8MB/s eta 0:00:01\r\u001b[K     |███████████████████████████████▌| 256kB 2.8MB/s eta 0:00:01\r\u001b[K     |████████████████████████████████| 266kB 2.8MB/s \n",
            "\u001b[?25h\u001b[?25l\r\u001b[K     |█████                           | 10kB 21.9MB/s eta 0:00:01\r\u001b[K     |█████████▉                      | 20kB 28.9MB/s eta 0:00:01\r\u001b[K     |██████████████▊                 | 30kB 34.8MB/s eta 0:00:01\r\u001b[K     |███████████████████▋            | 40kB 15.8MB/s eta 0:00:01\r\u001b[K     |████████████████████████▌       | 51kB 12.6MB/s eta 0:00:01\r\u001b[K     |█████████████████████████████▍  | 61kB 14.4MB/s eta 0:00:01\r\u001b[K     |████████████████████████████████| 71kB 5.9MB/s \n",
            "\u001b[K     |████████████████████████████████| 3.1MB 9.0MB/s \n",
            "\u001b[K     |████████████████████████████████| 604kB 17.6MB/s \n",
            "\u001b[K     |████████████████████████████████| 71kB 8.1MB/s \n",
            "\u001b[K     |████████████████████████████████| 61kB 7.0MB/s \n",
            "\u001b[K     |████████████████████████████████| 296kB 34.6MB/s \n",
            "\u001b[?25h  Building wheel for htmlmin (setup.py) ... \u001b[?25l\u001b[?25hdone\n",
            "  Building wheel for imagehash (setup.py) ... \u001b[?25l\u001b[?25hdone\n",
            "\u001b[K     |████████████████████████████████| 266kB 2.8MB/s \n",
            "\u001b[?25h"
          ],
          "name": "stdout"
        }
      ]
    },
    {
      "cell_type": "markdown",
      "metadata": {
        "id": "Dr81YLBIeYVG",
        "colab_type": "text"
      },
      "source": [
        "<a id = Section33></a>\n",
        "### **3.3 Importing Libraries**"
      ]
    },
    {
      "cell_type": "code",
      "metadata": {
        "id": "YaSkLzvfxre4",
        "colab_type": "code",
        "colab": {
          "base_uri": "https://localhost:8080/",
          "height": 104
        },
        "outputId": "47429b38-2809-4cfb-db7d-143a72917adc"
      },
      "source": [
        "# For Panel Data Analysis\n",
        "import pandas as pd\n",
        "from pandas_profiling import ProfileReport\n",
        "import pandas.util.testing as tm\n",
        "pd.set_option('display.max_columns', None)\n",
        "pd.set_option('display.max_colwidth', -1)\n",
        "pd.set_option('display.max_rows', None)\n",
        "pd.set_option('mode.chained_assignment', None)\n",
        "\n",
        "# For Numerical Python\n",
        "import numpy as np\n",
        "\n",
        "# For Random seed values\n",
        "from random import randint\n",
        "\n",
        "# For Scientifc Python\n",
        "from scipy import stats\n",
        "\n",
        "# For datetime\n",
        "import datetime\n",
        "from datetime import datetime as dt\n",
        "\n",
        "\n",
        "# For Data Visualization\n",
        "import matplotlib.pyplot as plt\n",
        "%matplotlib inline\n",
        "import seaborn as sns\n",
        "import plotly.express as px\n",
        "from plotly.offline import plot\n",
        "import plotly.graph_objects as go\n",
        "from plotly.subplots import make_subplots\n",
        "\n",
        "# For Data Modeling\n",
        "from sklearn.cluster import KMeans\n",
        "\n",
        "# To Disable Warnings\n",
        "import warnings\n",
        "warnings.filterwarnings(action = \"ignore\")"
      ],
      "execution_count": 3,
      "outputs": [
        {
          "output_type": "stream",
          "text": [
            "/usr/local/lib/python3.6/dist-packages/statsmodels/tools/_testing.py:19: FutureWarning: pandas.util.testing is deprecated. Use the functions in the public API at pandas.testing instead.\n",
            "  import pandas.util.testing as tm\n",
            "/usr/local/lib/python3.6/dist-packages/ipykernel_launcher.py:6: FutureWarning: Passing a negative integer is deprecated in version 1.0 and will not be supported in future version. Instead, use None to not limit the column width.\n",
            "  \n"
          ],
          "name": "stderr"
        }
      ]
    },
    {
      "cell_type": "markdown",
      "metadata": {
        "id": "RI9092BJlkqB",
        "colab_type": "text"
      },
      "source": [
        "<a id = Section4></a>\n",
        "\n",
        "---\n",
        "# **4. Data Acquisition & Wrangling**\n",
        "---"
      ]
    },
    {
      "cell_type": "markdown",
      "metadata": {
        "id": "umt9PsUZlviY",
        "colab_type": "text"
      },
      "source": [
        "This data set is based on online transactions occurring between 01/12/2017 and 09/12/2019 and is accessible <a href=\"https://storage.googleapis.com/retail-analytics-data/OnlineRetailV3.csv\">here</a>.\n",
        "\n",
        "| Records | Features | Dataset Size |\n",
        "| :-- | :-- | :-- |\n",
        "| 1067371 | 8 | 90.4 MB|\n",
        "\n",
        "|Id|Features|Description|\n",
        "| :-- | :-- | :-- |\n",
        "|01|**Invoice**|Invoice number. A 6-digit integral number uniquely assigned to each transaction. If this code starts with the letter 'c', it indicates a cancellation.|\n",
        "|02|**StockCode**|Product item code. A 5-digit integral number along with letters uniquely assigned to each distinct product.|\n",
        "|03|**Description**|Product item name.|\n",
        "|04|**Quantity**|The quantities of each product item per transaction. Some values are negative due error while tracking data under process.|\n",
        "|05|**InvoiceDate**|Invice date and time. The day and time when a transaction was generated.|\n",
        "|06|**Price**|Product price per unit in sterling (&pound;).|\n",
        "|07|**Customer ID**|Customer number. A 5-digit integral number uniquely assigned to each customer.|\n",
        "|08|**Country**|Country name. The name of the country where a customer resides.|"
      ]
    },
    {
      "cell_type": "code",
      "metadata": {
        "id": "6jwUwTYZ4NM7",
        "colab_type": "code",
        "colab": {}
      },
      "source": [
        "LINK = 'https://storage.googleapis.com/retail-analytics-data/OnlineRetailV3.csv'\n",
        "\n",
        "def load_cust_seg_data(link = LINK):\n",
        "  return pd.read_csv(filepath_or_buffer = link)"
      ],
      "execution_count": 4,
      "outputs": []
    },
    {
      "cell_type": "code",
      "metadata": {
        "id": "N2p8lLnn4S2c",
        "colab_type": "code",
        "colab": {
          "base_uri": "https://localhost:8080/",
          "height": 212
        },
        "outputId": "e9f9204a-f8bf-4060-a1a2-7800b5eb3808"
      },
      "source": [
        "data = load_cust_seg_data()\n",
        "print('Data Shape:', data.shape)\n",
        "data.head()"
      ],
      "execution_count": 5,
      "outputs": [
        {
          "output_type": "stream",
          "text": [
            "Data Shape: (1067371, 8)\n"
          ],
          "name": "stdout"
        },
        {
          "output_type": "execute_result",
          "data": {
            "text/html": [
              "<div>\n",
              "<style scoped>\n",
              "    .dataframe tbody tr th:only-of-type {\n",
              "        vertical-align: middle;\n",
              "    }\n",
              "\n",
              "    .dataframe tbody tr th {\n",
              "        vertical-align: top;\n",
              "    }\n",
              "\n",
              "    .dataframe thead th {\n",
              "        text-align: right;\n",
              "    }\n",
              "</style>\n",
              "<table border=\"1\" class=\"dataframe\">\n",
              "  <thead>\n",
              "    <tr style=\"text-align: right;\">\n",
              "      <th></th>\n",
              "      <th>Invoice</th>\n",
              "      <th>StockCode</th>\n",
              "      <th>Description</th>\n",
              "      <th>Quantity</th>\n",
              "      <th>InvoiceDate</th>\n",
              "      <th>Price</th>\n",
              "      <th>Customer ID</th>\n",
              "      <th>Country</th>\n",
              "    </tr>\n",
              "  </thead>\n",
              "  <tbody>\n",
              "    <tr>\n",
              "      <th>0</th>\n",
              "      <td>489434</td>\n",
              "      <td>85048</td>\n",
              "      <td>15CM CHRISTMAS GLASS BALL 20 LIGHTS</td>\n",
              "      <td>12</td>\n",
              "      <td>2017-12-1</td>\n",
              "      <td>6.95</td>\n",
              "      <td>13085.0</td>\n",
              "      <td>United Kingdom</td>\n",
              "    </tr>\n",
              "    <tr>\n",
              "      <th>1</th>\n",
              "      <td>489434</td>\n",
              "      <td>79323P</td>\n",
              "      <td>PINK CHERRY LIGHTS</td>\n",
              "      <td>12</td>\n",
              "      <td>2017-12-1</td>\n",
              "      <td>6.75</td>\n",
              "      <td>13085.0</td>\n",
              "      <td>United Kingdom</td>\n",
              "    </tr>\n",
              "    <tr>\n",
              "      <th>2</th>\n",
              "      <td>489434</td>\n",
              "      <td>79323W</td>\n",
              "      <td>WHITE CHERRY LIGHTS</td>\n",
              "      <td>12</td>\n",
              "      <td>2017-12-1</td>\n",
              "      <td>6.75</td>\n",
              "      <td>13085.0</td>\n",
              "      <td>United Kingdom</td>\n",
              "    </tr>\n",
              "    <tr>\n",
              "      <th>3</th>\n",
              "      <td>489434</td>\n",
              "      <td>22041</td>\n",
              "      <td>RECORD FRAME 7\" SINGLE SIZE</td>\n",
              "      <td>48</td>\n",
              "      <td>2017-12-1</td>\n",
              "      <td>2.10</td>\n",
              "      <td>13085.0</td>\n",
              "      <td>United Kingdom</td>\n",
              "    </tr>\n",
              "    <tr>\n",
              "      <th>4</th>\n",
              "      <td>489434</td>\n",
              "      <td>21232</td>\n",
              "      <td>STRAWBERRY CERAMIC TRINKET BOX</td>\n",
              "      <td>24</td>\n",
              "      <td>2017-12-1</td>\n",
              "      <td>1.25</td>\n",
              "      <td>13085.0</td>\n",
              "      <td>United Kingdom</td>\n",
              "    </tr>\n",
              "  </tbody>\n",
              "</table>\n",
              "</div>"
            ],
            "text/plain": [
              "  Invoice StockCode                          Description  Quantity  \\\n",
              "0  489434  85048     15CM CHRISTMAS GLASS BALL 20 LIGHTS  12         \n",
              "1  489434  79323P    PINK CHERRY LIGHTS                   12         \n",
              "2  489434  79323W     WHITE CHERRY LIGHTS                 12         \n",
              "3  489434  22041     RECORD FRAME 7\" SINGLE SIZE          48         \n",
              "4  489434  21232     STRAWBERRY CERAMIC TRINKET BOX       24         \n",
              "\n",
              "  InvoiceDate  Price  Customer ID         Country  \n",
              "0  2017-12-1   6.95   13085.0      United Kingdom  \n",
              "1  2017-12-1   6.75   13085.0      United Kingdom  \n",
              "2  2017-12-1   6.75   13085.0      United Kingdom  \n",
              "3  2017-12-1   2.10   13085.0      United Kingdom  \n",
              "4  2017-12-1   1.25   13085.0      United Kingdom  "
            ]
          },
          "metadata": {
            "tags": []
          },
          "execution_count": 5
        }
      ]
    },
    {
      "cell_type": "markdown",
      "metadata": {
        "id": "xNbStA156_xJ",
        "colab_type": "text"
      },
      "source": [
        "<a id = Section41></a>\n",
        "### **4.1 Data Description**\n",
        "\n",
        "- In this section we will get **information about the data** and see some observations.\n"
      ]
    },
    {
      "cell_type": "code",
      "metadata": {
        "id": "ryhNgh7394KF",
        "colab_type": "code",
        "colab": {
          "base_uri": "https://localhost:8080/",
          "height": 301
        },
        "outputId": "f1b66adb-7f34-438f-96a1-98a824995ac9"
      },
      "source": [
        "print('Described Column Length:', len(data.describe().columns))\n",
        "data.describe()"
      ],
      "execution_count": 6,
      "outputs": [
        {
          "output_type": "stream",
          "text": [
            "Described Column Length: 3\n"
          ],
          "name": "stdout"
        },
        {
          "output_type": "execute_result",
          "data": {
            "text/html": [
              "<div>\n",
              "<style scoped>\n",
              "    .dataframe tbody tr th:only-of-type {\n",
              "        vertical-align: middle;\n",
              "    }\n",
              "\n",
              "    .dataframe tbody tr th {\n",
              "        vertical-align: top;\n",
              "    }\n",
              "\n",
              "    .dataframe thead th {\n",
              "        text-align: right;\n",
              "    }\n",
              "</style>\n",
              "<table border=\"1\" class=\"dataframe\">\n",
              "  <thead>\n",
              "    <tr style=\"text-align: right;\">\n",
              "      <th></th>\n",
              "      <th>Quantity</th>\n",
              "      <th>Price</th>\n",
              "      <th>Customer ID</th>\n",
              "    </tr>\n",
              "  </thead>\n",
              "  <tbody>\n",
              "    <tr>\n",
              "      <th>count</th>\n",
              "      <td>1.067371e+06</td>\n",
              "      <td>1.067371e+06</td>\n",
              "      <td>824364.000000</td>\n",
              "    </tr>\n",
              "    <tr>\n",
              "      <th>mean</th>\n",
              "      <td>9.938898e+00</td>\n",
              "      <td>4.649388e+00</td>\n",
              "      <td>15324.638504</td>\n",
              "    </tr>\n",
              "    <tr>\n",
              "      <th>std</th>\n",
              "      <td>1.727058e+02</td>\n",
              "      <td>1.235531e+02</td>\n",
              "      <td>1697.464450</td>\n",
              "    </tr>\n",
              "    <tr>\n",
              "      <th>min</th>\n",
              "      <td>-8.099500e+04</td>\n",
              "      <td>-5.359436e+04</td>\n",
              "      <td>12346.000000</td>\n",
              "    </tr>\n",
              "    <tr>\n",
              "      <th>25%</th>\n",
              "      <td>1.000000e+00</td>\n",
              "      <td>1.250000e+00</td>\n",
              "      <td>13975.000000</td>\n",
              "    </tr>\n",
              "    <tr>\n",
              "      <th>50%</th>\n",
              "      <td>3.000000e+00</td>\n",
              "      <td>2.100000e+00</td>\n",
              "      <td>15255.000000</td>\n",
              "    </tr>\n",
              "    <tr>\n",
              "      <th>75%</th>\n",
              "      <td>1.000000e+01</td>\n",
              "      <td>4.150000e+00</td>\n",
              "      <td>16797.000000</td>\n",
              "    </tr>\n",
              "    <tr>\n",
              "      <th>max</th>\n",
              "      <td>8.099500e+04</td>\n",
              "      <td>3.897000e+04</td>\n",
              "      <td>18287.000000</td>\n",
              "    </tr>\n",
              "  </tbody>\n",
              "</table>\n",
              "</div>"
            ],
            "text/plain": [
              "           Quantity         Price    Customer ID\n",
              "count  1.067371e+06  1.067371e+06  824364.000000\n",
              "mean   9.938898e+00  4.649388e+00  15324.638504 \n",
              "std    1.727058e+02  1.235531e+02  1697.464450  \n",
              "min   -8.099500e+04 -5.359436e+04  12346.000000 \n",
              "25%    1.000000e+00  1.250000e+00  13975.000000 \n",
              "50%    3.000000e+00  2.100000e+00  15255.000000 \n",
              "75%    1.000000e+01  4.150000e+00  16797.000000 \n",
              "max    8.099500e+04  3.897000e+04  18287.000000 "
            ]
          },
          "metadata": {
            "tags": []
          },
          "execution_count": 6
        }
      ]
    },
    {
      "cell_type": "markdown",
      "metadata": {
        "id": "j7N92G9h7EzG",
        "colab_type": "text"
      },
      "source": [
        "**Observation:**\n",
        "\n",
        "- On **average** customer had **bought** around **quantity** of **10** of **each** product **item**.\n",
        "\n",
        "- **25%**  of customers **bought** product **items** with <= **unit** **quantity**, while **50%** and **75%** of customers **bought** product **item** with **quantity <= 3 and 10**.\n",
        "\n",
        "- **Average** **price** of all the **transacted items** was **&pound;4.64 pounds**.\n",
        "\n",
        "- **25%** of product **items** had **price of &pound;1.25 pounds**, while **50% and 75%** of **items** had **price of &pound;2.1 pounds** and **&pound;4.15 pounds**."
      ]
    },
    {
      "cell_type": "markdown",
      "metadata": {
        "id": "DDZp6q79BACr",
        "colab_type": "text"
      },
      "source": [
        "<a id = Section42></a>\n",
        "### **4.2 Data Information**\n",
        "\n",
        "- In this section we will see the **information about the types of features**."
      ]
    },
    {
      "cell_type": "code",
      "metadata": {
        "id": "o0G36yeyAy2C",
        "colab_type": "code",
        "colab": {
          "base_uri": "https://localhost:8080/",
          "height": 269
        },
        "outputId": "2910e8c6-bd7f-4e21-c1d9-353120fd96f7"
      },
      "source": [
        "data.info()"
      ],
      "execution_count": 7,
      "outputs": [
        {
          "output_type": "stream",
          "text": [
            "<class 'pandas.core.frame.DataFrame'>\n",
            "RangeIndex: 1067371 entries, 0 to 1067370\n",
            "Data columns (total 8 columns):\n",
            " #   Column       Non-Null Count    Dtype  \n",
            "---  ------       --------------    -----  \n",
            " 0   Invoice      1067371 non-null  object \n",
            " 1   StockCode    1067371 non-null  object \n",
            " 2   Description  1062989 non-null  object \n",
            " 3   Quantity     1067371 non-null  int64  \n",
            " 4   InvoiceDate  1067371 non-null  object \n",
            " 5   Price        1067371 non-null  float64\n",
            " 6   Customer ID  824364 non-null   float64\n",
            " 7   Country      1067371 non-null  object \n",
            "dtypes: float64(2), int64(1), object(5)\n",
            "memory usage: 65.1+ MB\n"
          ],
          "name": "stdout"
        }
      ]
    },
    {
      "cell_type": "markdown",
      "metadata": {
        "id": "YnIfV7WsBFHB",
        "colab_type": "text"
      },
      "source": [
        "**Observation:**\n",
        "\n",
        "- **Feature:** \n",
        "  - Problem &rarr; Action Required\n",
        "- **Description:**\n",
        "  - Missing Information (4382 Records) &rarr; Drop Records\n",
        "- **InvoiceDate:**\n",
        "  - Incorrect Data Type &rarr; Datatime Transformation\n",
        "- **Customer ID:**\n",
        "  - Incorrect Data Type &rarr; Integer Transformation\n",
        "  - Missing Information (243007 Records) &rarr; Drop Records"
      ]
    },
    {
      "cell_type": "markdown",
      "metadata": {
        "id": "R3zRUjfKDukI",
        "colab_type": "text"
      },
      "source": [
        "<a id = Section43></a>\n",
        "### **4.3 Numerical Data Distribution:**\n",
        "\n",
        "- We shall plot all **numerical features to analyze the distribution** of their past.\n",
        "\n",
        "- But **before** that we must **extract** all the **numerical** **features** which has been **performed** **below**."
      ]
    },
    {
      "cell_type": "code",
      "metadata": {
        "id": "GCh9CzNgBDkZ",
        "colab_type": "code",
        "colab": {
          "base_uri": "https://localhost:8080/",
          "height": 67
        },
        "outputId": "f87a5426-017b-4d34-dea7-f05f6e23a228"
      },
      "source": [
        "num_feature = []\n",
        "\n",
        "for i in data.columns.values:\n",
        "  if ((data[i].dtype == int) | (data[i].dtype == float)):\n",
        "    num_feature.append(i)\n",
        "    \n",
        "print('Total Numerical Features:', len(num_feature))\n",
        "print('Features:', num_feature)\n",
        "\n",
        "# Dropping Customer ID\n",
        "num_feature.remove('Customer ID')\n",
        "print('Final Numerical Features:', num_feature)"
      ],
      "execution_count": 8,
      "outputs": [
        {
          "output_type": "stream",
          "text": [
            "Total Numerical Features: 3\n",
            "Features: ['Quantity', 'Price', 'Customer ID']\n",
            "Final Numerical Features: ['Quantity', 'Price']\n"
          ],
          "name": "stdout"
        }
      ]
    },
    {
      "cell_type": "code",
      "metadata": {
        "id": "zRPfR2i1D1C4",
        "colab_type": "code",
        "colab": {
          "base_uri": "https://localhost:8080/",
          "height": 441
        },
        "outputId": "b485e5ab-22e8-4ce4-86ad-05c0c4dfee73"
      },
      "source": [
        "# Creating subplots\n",
        "fig, axes = plt.subplots(nrows = 1, ncols = 2, sharex = False, figsize=(15, 6))\n",
        "\n",
        "# Generating random colors based on number of columns\n",
        "colors = []\n",
        "for i in range(len(num_feature)):\n",
        "  colors.append('#%06X' % randint(0, 0xFFFFFF))  \n",
        "                \n",
        "for ax, col, color in zip(axes.flat, num_feature, colors):\n",
        "  sns.distplot(a = data[col], bins = 30, ax = ax, color = color)\n",
        "  ax.set_title(col)\n",
        "  plt.setp(axes, xlabel = '')\n",
        "  ax.grid(False)\n",
        "plt.tight_layout()\n",
        "plt.show()"
      ],
      "execution_count": 9,
      "outputs": [
        {
          "output_type": "display_data",
          "data": {
            "image/png": "[encoded data removed]",
            "text/plain": [
              "<Figure size 1080x432 with 2 Axes>"
            ]
          },
          "metadata": {
            "tags": [],
            "needs_background": "light"
          }
        }
      ]
    },
    {
      "cell_type": "markdown",
      "metadata": {
        "id": "x_kyJxQHSNuX",
        "colab_type": "text"
      },
      "source": [
        "**Observation:**\n",
        "\n",
        "- **Quantity** and **Price** features are **positively skewed**."
      ]
    },
    {
      "cell_type": "markdown",
      "metadata": {
        "id": "80kwMTHcK_J2",
        "colab_type": "text"
      },
      "source": [
        "<a id = Section44></a>\n",
        "### **4.4 Pre Profiling Report**\n",
        "\n",
        "- For quick analysis pandas profiling is very handy.\n",
        "\n",
        "- Generates profile reports from a pandas DataFrame.\n",
        "\n",
        "- For each column statistics are presented in an interactive HTML report."
      ]
    },
    {
      "cell_type": "code",
      "metadata": {
        "id": "DckL_ORSK_0r",
        "colab_type": "code",
        "colab": {}
      },
      "source": [
        "#profile = ProfileReport(df = data)\n",
        "#profile.to_file(output_file = 'Pre Profiling Report.html')\n",
        "#print('Accomplished!')"
      ],
      "execution_count": null,
      "outputs": []
    },
    {
      "cell_type": "code",
      "metadata": {
        "id": "wuOCguQsrFnR",
        "colab_type": "code",
        "colab": {}
      },
      "source": [
        "#from google.colab import files                   # Use only if you are using Google Colab, otherwise remove it\n",
        "#files.download('Pre Profiling Report.html')      # Use only if you are using Google Colab, otherwise remove it"
      ],
      "execution_count": null,
      "outputs": []
    },
    {
      "cell_type": "markdown",
      "metadata": {
        "id": "GXgutITBpdft",
        "colab_type": "text"
      },
      "source": [
        "**Observation:**\n",
        "\n",
        "- According to the report there are **total 8 variables** out which **5 are categorical and 3 are numerical**.\n",
        "\n",
        "- Around **2.9% of data is missing** i.e. 247389 cells.\n",
        "\n",
        "- Around **3.2% of rows are duplicate** i.e. 34335 rows.\n",
        "\n",
        "- **Invoice, StockCode, Description, InvoiceDate** features have **high cardinalities**.\n",
        "\n",
        "- There is **absence of correlation** **among features** with each others"
      ]
    },
    {
      "cell_type": "markdown",
      "metadata": {
        "id": "To9MDb_JRe8H",
        "colab_type": "text"
      },
      "source": [
        "<a id = Section5></a>\n",
        "\n",
        "---\n",
        "# **5. Data Pre-Processing**\n",
        "---"
      ]
    },
    {
      "cell_type": "markdown",
      "metadata": {
        "id": "u_NOqcCdRiRf",
        "colab_type": "text"
      },
      "source": [
        "<a id = Section51></a>\n",
        "### **5.1 Identification & Handling of Missing Data**"
      ]
    },
    {
      "cell_type": "markdown",
      "metadata": {
        "id": "vH69bpdjRlAN",
        "colab_type": "text"
      },
      "source": [
        "#### **5.1.1 Null Data Identification & Handling**"
      ]
    },
    {
      "cell_type": "markdown",
      "metadata": {
        "id": "Sue7B74WRnrl",
        "colab_type": "text"
      },
      "source": [
        "**Before Handling Null Data**\n"
      ]
    },
    {
      "cell_type": "code",
      "metadata": {
        "id": "FB7cBnJnRo4l",
        "colab_type": "code",
        "colab": {
          "base_uri": "https://localhost:8080/",
          "height": 106
        },
        "outputId": "b7b77957-aa7c-448b-ca9e-f7046cc0c7c4"
      },
      "source": [
        "null_frame = pd.DataFrame(index = data.columns.values)\n",
        "null_frame['Null Frequency'] = data.isnull().sum().values\n",
        "percent = data.isnull().sum().values/data.shape[0]\n",
        "null_frame['Missing %age'] = np.round(percent, decimals = 4) * 100\n",
        "null_frame.transpose()"
      ],
      "execution_count": 10,
      "outputs": [
        {
          "output_type": "execute_result",
          "data": {
            "text/html": [
              "<div>\n",
              "<style scoped>\n",
              "    .dataframe tbody tr th:only-of-type {\n",
              "        vertical-align: middle;\n",
              "    }\n",
              "\n",
              "    .dataframe tbody tr th {\n",
              "        vertical-align: top;\n",
              "    }\n",
              "\n",
              "    .dataframe thead th {\n",
              "        text-align: right;\n",
              "    }\n",
              "</style>\n",
              "<table border=\"1\" class=\"dataframe\">\n",
              "  <thead>\n",
              "    <tr style=\"text-align: right;\">\n",
              "      <th></th>\n",
              "      <th>Invoice</th>\n",
              "      <th>StockCode</th>\n",
              "      <th>Description</th>\n",
              "      <th>Quantity</th>\n",
              "      <th>InvoiceDate</th>\n",
              "      <th>Price</th>\n",
              "      <th>Customer ID</th>\n",
              "      <th>Country</th>\n",
              "    </tr>\n",
              "  </thead>\n",
              "  <tbody>\n",
              "    <tr>\n",
              "      <th>Null Frequency</th>\n",
              "      <td>0.0</td>\n",
              "      <td>0.0</td>\n",
              "      <td>4382.00</td>\n",
              "      <td>0.0</td>\n",
              "      <td>0.0</td>\n",
              "      <td>0.0</td>\n",
              "      <td>243007.00</td>\n",
              "      <td>0.0</td>\n",
              "    </tr>\n",
              "    <tr>\n",
              "      <th>Missing %age</th>\n",
              "      <td>0.0</td>\n",
              "      <td>0.0</td>\n",
              "      <td>0.41</td>\n",
              "      <td>0.0</td>\n",
              "      <td>0.0</td>\n",
              "      <td>0.0</td>\n",
              "      <td>22.77</td>\n",
              "      <td>0.0</td>\n",
              "    </tr>\n",
              "  </tbody>\n",
              "</table>\n",
              "</div>"
            ],
            "text/plain": [
              "                Invoice  StockCode  Description  Quantity  InvoiceDate  Price  \\\n",
              "Null Frequency  0.0      0.0        4382.00      0.0       0.0          0.0     \n",
              "Missing %age    0.0      0.0        0.41         0.0       0.0          0.0     \n",
              "\n",
              "                Customer ID  Country  \n",
              "Null Frequency  243007.00    0.0      \n",
              "Missing %age    22.77        0.0      "
            ]
          },
          "metadata": {
            "tags": []
          },
          "execution_count": 10
        }
      ]
    },
    {
      "cell_type": "markdown",
      "metadata": {
        "id": "VBex2wTsRs0u",
        "colab_type": "text"
      },
      "source": [
        "**Observation:**\n",
        "\n",
        "- **Feature:** \n",
        "  - Problem &rarr; Action Required {Reason}\n",
        "- **Description:**\n",
        "  - Missing information (4382) &rarr; Drop records {Ratio is very less, won't affect the results}\n",
        "- **Customer ID:**\n",
        "  - Missing information (243007) &rarr; Drop records {Ratio is not high enough, as we still have around 80% info to retain}"
      ]
    },
    {
      "cell_type": "markdown",
      "metadata": {
        "id": "A8qluROER00V",
        "colab_type": "text"
      },
      "source": [
        "**Performing Operations**"
      ]
    },
    {
      "cell_type": "code",
      "metadata": {
        "id": "DlAMj9wXRrBl",
        "colab_type": "code",
        "colab": {
          "base_uri": "https://localhost:8080/",
          "height": 50
        },
        "outputId": "6b0d66dd-1c14-4acf-e8b1-fb75289cc0b8"
      },
      "source": [
        "print('Data Shape [Before]:', data.shape)\n",
        "data.dropna(axis = 0, subset = ['Description', 'Customer ID'], inplace = True)\n",
        "print('Data Shape [After]:', data.shape)"
      ],
      "execution_count": 11,
      "outputs": [
        {
          "output_type": "stream",
          "text": [
            "Data Shape [Before]: (1067371, 8)\n",
            "Data Shape [After]: (824364, 8)\n"
          ],
          "name": "stdout"
        }
      ]
    },
    {
      "cell_type": "markdown",
      "metadata": {
        "id": "xGsqSEXUtFwC",
        "colab_type": "text"
      },
      "source": [
        "**After Handling Null Data**\n",
        "\n",
        "- Now that we have performed the operations, let's verify whether the null data has been eliminated or not."
      ]
    },
    {
      "cell_type": "code",
      "metadata": {
        "id": "7IPeLjs5tGeu",
        "colab_type": "code",
        "colab": {
          "base_uri": "https://localhost:8080/",
          "height": 106
        },
        "outputId": "67eba880-8391-4800-b444-85dd7c2e44be"
      },
      "source": [
        "null_frame = pd.DataFrame(index = data.columns.values)\n",
        "null_frame['Null Frequency'] = data.isnull().sum().values\n",
        "percent = data.isnull().sum().values/data.shape[0]\n",
        "null_frame['Missing %age'] = np.round(percent, decimals = 4) * 100\n",
        "null_frame.transpose()"
      ],
      "execution_count": 12,
      "outputs": [
        {
          "output_type": "execute_result",
          "data": {
            "text/html": [
              "<div>\n",
              "<style scoped>\n",
              "    .dataframe tbody tr th:only-of-type {\n",
              "        vertical-align: middle;\n",
              "    }\n",
              "\n",
              "    .dataframe tbody tr th {\n",
              "        vertical-align: top;\n",
              "    }\n",
              "\n",
              "    .dataframe thead th {\n",
              "        text-align: right;\n",
              "    }\n",
              "</style>\n",
              "<table border=\"1\" class=\"dataframe\">\n",
              "  <thead>\n",
              "    <tr style=\"text-align: right;\">\n",
              "      <th></th>\n",
              "      <th>Invoice</th>\n",
              "      <th>StockCode</th>\n",
              "      <th>Description</th>\n",
              "      <th>Quantity</th>\n",
              "      <th>InvoiceDate</th>\n",
              "      <th>Price</th>\n",
              "      <th>Customer ID</th>\n",
              "      <th>Country</th>\n",
              "    </tr>\n",
              "  </thead>\n",
              "  <tbody>\n",
              "    <tr>\n",
              "      <th>Null Frequency</th>\n",
              "      <td>0.0</td>\n",
              "      <td>0.0</td>\n",
              "      <td>0.0</td>\n",
              "      <td>0.0</td>\n",
              "      <td>0.0</td>\n",
              "      <td>0.0</td>\n",
              "      <td>0.0</td>\n",
              "      <td>0.0</td>\n",
              "    </tr>\n",
              "    <tr>\n",
              "      <th>Missing %age</th>\n",
              "      <td>0.0</td>\n",
              "      <td>0.0</td>\n",
              "      <td>0.0</td>\n",
              "      <td>0.0</td>\n",
              "      <td>0.0</td>\n",
              "      <td>0.0</td>\n",
              "      <td>0.0</td>\n",
              "      <td>0.0</td>\n",
              "    </tr>\n",
              "  </tbody>\n",
              "</table>\n",
              "</div>"
            ],
            "text/plain": [
              "                Invoice  StockCode  Description  Quantity  InvoiceDate  Price  \\\n",
              "Null Frequency  0.0      0.0        0.0          0.0       0.0          0.0     \n",
              "Missing %age    0.0      0.0        0.0          0.0       0.0          0.0     \n",
              "\n",
              "                Customer ID  Country  \n",
              "Null Frequency  0.0          0.0      \n",
              "Missing %age    0.0          0.0      "
            ]
          },
          "metadata": {
            "tags": []
          },
          "execution_count": 12
        }
      ]
    },
    {
      "cell_type": "markdown",
      "metadata": {
        "id": "rU0qHtkVtL-e",
        "colab_type": "text"
      },
      "source": [
        "**Observation:**\n",
        "\n",
        "- We can see that we have **eliminated null data successfully**."
      ]
    },
    {
      "cell_type": "markdown",
      "metadata": {
        "id": "ajuyrMbbtOlv",
        "colab_type": "text"
      },
      "source": [
        "#### **5.1.2 Zero Data Identification & Handling**"
      ]
    },
    {
      "cell_type": "code",
      "metadata": {
        "id": "lLTYRX-4ta5K",
        "colab_type": "code",
        "colab": {
          "base_uri": "https://localhost:8080/",
          "height": 111
        },
        "outputId": "f31b86c6-7efd-495f-c2aa-d5a6a67f8797"
      },
      "source": [
        "zero_frame = pd.DataFrame(index = data.columns.values)\n",
        "zero_frame['Null Frequency'] = data[data == 0].count().values\n",
        "percent = data[data == 0].count().values / data.shape[0]\n",
        "zero_frame['Missing %age'] = np.round(percent, decimals = 4) * 100\n",
        "zero_frame.transpose()"
      ],
      "execution_count": null,
      "outputs": [
        {
          "output_type": "execute_result",
          "data": {
            "text/html": [
              "<div>\n",
              "<style scoped>\n",
              "    .dataframe tbody tr th:only-of-type {\n",
              "        vertical-align: middle;\n",
              "    }\n",
              "\n",
              "    .dataframe tbody tr th {\n",
              "        vertical-align: top;\n",
              "    }\n",
              "\n",
              "    .dataframe thead th {\n",
              "        text-align: right;\n",
              "    }\n",
              "</style>\n",
              "<table border=\"1\" class=\"dataframe\">\n",
              "  <thead>\n",
              "    <tr style=\"text-align: right;\">\n",
              "      <th></th>\n",
              "      <th>Invoice</th>\n",
              "      <th>StockCode</th>\n",
              "      <th>Description</th>\n",
              "      <th>Quantity</th>\n",
              "      <th>InvoiceDate</th>\n",
              "      <th>Price</th>\n",
              "      <th>Customer ID</th>\n",
              "      <th>Country</th>\n",
              "    </tr>\n",
              "  </thead>\n",
              "  <tbody>\n",
              "    <tr>\n",
              "      <th>Null Frequency</th>\n",
              "      <td>0.0</td>\n",
              "      <td>0.0</td>\n",
              "      <td>0.0</td>\n",
              "      <td>0.0</td>\n",
              "      <td>0.0</td>\n",
              "      <td>71.00</td>\n",
              "      <td>0.0</td>\n",
              "      <td>0.0</td>\n",
              "    </tr>\n",
              "    <tr>\n",
              "      <th>Missing %age</th>\n",
              "      <td>0.0</td>\n",
              "      <td>0.0</td>\n",
              "      <td>0.0</td>\n",
              "      <td>0.0</td>\n",
              "      <td>0.0</td>\n",
              "      <td>0.01</td>\n",
              "      <td>0.0</td>\n",
              "      <td>0.0</td>\n",
              "    </tr>\n",
              "  </tbody>\n",
              "</table>\n",
              "</div>"
            ],
            "text/plain": [
              "                Invoice  StockCode  Description  Quantity  InvoiceDate  Price  \\\n",
              "Null Frequency  0.0      0.0        0.0          0.0       0.0          71.00   \n",
              "Missing %age    0.0      0.0        0.0          0.0       0.0          0.01    \n",
              "\n",
              "                Customer ID  Country  \n",
              "Null Frequency  0.0          0.0      \n",
              "Missing %age    0.0          0.0      "
            ]
          },
          "metadata": {
            "tags": []
          },
          "execution_count": 11
        }
      ]
    },
    {
      "cell_type": "markdown",
      "metadata": {
        "id": "JNTCq5GLto4W",
        "colab_type": "text"
      },
      "source": [
        "**Observation:**\n",
        "\n",
        "- **Feature:** \n",
        "  - Problem &rarr; Action Required {Reason}\n",
        "- **Price:**\n",
        "  - Identified 71 zeros &rarr; Drop records {Price of product item cannot be zero. Some orders were cancelled so price = 0}"
      ]
    },
    {
      "cell_type": "markdown",
      "metadata": {
        "id": "dghQLBkiaUII",
        "colab_type": "text"
      },
      "source": [
        "**Performing Operations**"
      ]
    },
    {
      "cell_type": "code",
      "metadata": {
        "id": "7YWowg1wt9Dk",
        "colab_type": "code",
        "colab": {}
      },
      "source": [
        "data = data[data['Price'] != 0]"
      ],
      "execution_count": 13,
      "outputs": []
    },
    {
      "cell_type": "markdown",
      "metadata": {
        "id": "tD5OvOBcaXmw",
        "colab_type": "text"
      },
      "source": [
        "**After Handling Zero Data**\n",
        "\n",
        "- Now that we have performed the operations, let's verify whether the zero data has been eliminated or not."
      ]
    },
    {
      "cell_type": "code",
      "metadata": {
        "id": "DMWHdApuaKvH",
        "colab_type": "code",
        "colab": {
          "base_uri": "https://localhost:8080/",
          "height": 106
        },
        "outputId": "29e7dffb-8017-419b-b6c5-141bb73f8f2e"
      },
      "source": [
        "zero_frame = pd.DataFrame(index = data.columns.values)\n",
        "zero_frame['Null Frequency'] = data[data == 0].count().values\n",
        "percent = data[data == 0].count().values / data.shape[0]\n",
        "zero_frame['Missing %age'] = np.round(percent, decimals = 4) * 100\n",
        "zero_frame.transpose()"
      ],
      "execution_count": 14,
      "outputs": [
        {
          "output_type": "execute_result",
          "data": {
            "text/html": [
              "<div>\n",
              "<style scoped>\n",
              "    .dataframe tbody tr th:only-of-type {\n",
              "        vertical-align: middle;\n",
              "    }\n",
              "\n",
              "    .dataframe tbody tr th {\n",
              "        vertical-align: top;\n",
              "    }\n",
              "\n",
              "    .dataframe thead th {\n",
              "        text-align: right;\n",
              "    }\n",
              "</style>\n",
              "<table border=\"1\" class=\"dataframe\">\n",
              "  <thead>\n",
              "    <tr style=\"text-align: right;\">\n",
              "      <th></th>\n",
              "      <th>Invoice</th>\n",
              "      <th>StockCode</th>\n",
              "      <th>Description</th>\n",
              "      <th>Quantity</th>\n",
              "      <th>InvoiceDate</th>\n",
              "      <th>Price</th>\n",
              "      <th>Customer ID</th>\n",
              "      <th>Country</th>\n",
              "    </tr>\n",
              "  </thead>\n",
              "  <tbody>\n",
              "    <tr>\n",
              "      <th>Null Frequency</th>\n",
              "      <td>0.0</td>\n",
              "      <td>0.0</td>\n",
              "      <td>0.0</td>\n",
              "      <td>0.0</td>\n",
              "      <td>0.0</td>\n",
              "      <td>0.0</td>\n",
              "      <td>0.0</td>\n",
              "      <td>0.0</td>\n",
              "    </tr>\n",
              "    <tr>\n",
              "      <th>Missing %age</th>\n",
              "      <td>0.0</td>\n",
              "      <td>0.0</td>\n",
              "      <td>0.0</td>\n",
              "      <td>0.0</td>\n",
              "      <td>0.0</td>\n",
              "      <td>0.0</td>\n",
              "      <td>0.0</td>\n",
              "      <td>0.0</td>\n",
              "    </tr>\n",
              "  </tbody>\n",
              "</table>\n",
              "</div>"
            ],
            "text/plain": [
              "                Invoice  StockCode  Description  Quantity  InvoiceDate  Price  \\\n",
              "Null Frequency  0.0      0.0        0.0          0.0       0.0          0.0     \n",
              "Missing %age    0.0      0.0        0.0          0.0       0.0          0.0     \n",
              "\n",
              "                Customer ID  Country  \n",
              "Null Frequency  0.0          0.0      \n",
              "Missing %age    0.0          0.0      "
            ]
          },
          "metadata": {
            "tags": []
          },
          "execution_count": 14
        }
      ]
    },
    {
      "cell_type": "markdown",
      "metadata": {
        "id": "jwg8-KdsakTY",
        "colab_type": "text"
      },
      "source": [
        "**Observation:**\n",
        "\n",
        "- We can see that we have **eliminated zero data successfully**."
      ]
    },
    {
      "cell_type": "markdown",
      "metadata": {
        "id": "rOHeX5Sia0if",
        "colab_type": "text"
      },
      "source": [
        "<a id = Section52></a>\n",
        "### **5.2 Identification & Handling of Redundant Data**\n",
        "\n",
        "- In this section **we will identify redundant rows and columns** in our data if present.\n",
        "\n",
        "- **Before** we will **make a copy of our data** and **analyze** the **effect**. \n",
        "\n",
        "- **Later down**, all the **changes** will be **introduced** in the **original data**.\n",
        " "
      ]
    },
    {
      "cell_type": "markdown",
      "metadata": {
        "id": "yZqQXTMda6Ef",
        "colab_type": "text"
      },
      "source": [
        "#### **5.2.1 Identfication & Handling of Redundant Records**"
      ]
    },
    {
      "cell_type": "code",
      "metadata": {
        "id": "huuCyfVZa-HI",
        "colab_type": "code",
        "colab": {}
      },
      "source": [
        "data_copy = data.copy()"
      ],
      "execution_count": 15,
      "outputs": []
    },
    {
      "cell_type": "markdown",
      "metadata": {
        "id": "K-eSC1KFbrSn",
        "colab_type": "text"
      },
      "source": [
        "**Before Handling Duplicate Rows**"
      ]
    },
    {
      "cell_type": "code",
      "metadata": {
        "id": "nlVKCyoNaOCe",
        "colab_type": "code",
        "colab": {
          "base_uri": "https://localhost:8080/",
          "height": 67
        },
        "outputId": "037de375-02e7-4b87-cf92-43a89c3bd01f"
      },
      "source": [
        "print('Contains Redundant Records?:', data_copy.duplicated().any())\n",
        "print('Duplicate Count:', data_copy.duplicated().sum())\n",
        "print('Data Shape:', data_copy.shape)"
      ],
      "execution_count": 16,
      "outputs": [
        {
          "output_type": "stream",
          "text": [
            "Contains Redundant Records?: True\n",
            "Duplicate Count: 26480\n",
            "Data Shape: (824293, 8)\n"
          ],
          "name": "stdout"
        }
      ]
    },
    {
      "cell_type": "markdown",
      "metadata": {
        "id": "Y4LdFKQrbRGA",
        "colab_type": "text"
      },
      "source": [
        "**Observation:**\n",
        "\n",
        "- It turns out that there are **26479 duplicate** rows **present** in our data. \n",
        "- We will **drop** these **records** as they are **not useful** for our analysis and model development."
      ]
    },
    {
      "cell_type": "markdown",
      "metadata": {
        "id": "8yc-_mk8bvZw",
        "colab_type": "text"
      },
      "source": [
        "**Performing Operations**"
      ]
    },
    {
      "cell_type": "code",
      "metadata": {
        "id": "NyjZc9PrbAjr",
        "colab_type": "code",
        "colab": {
          "base_uri": "https://localhost:8080/",
          "height": 67
        },
        "outputId": "6d7a9d64-7f49-4573-b5ad-06e928ed8cfc"
      },
      "source": [
        "before_shape = data_copy.shape\n",
        "print('Data Shape [Before]:', before_shape)\n",
        "\n",
        "data_copy.drop_duplicates(inplace = True)\n",
        "\n",
        "after_shape = data_copy.shape\n",
        "print('Data Shape [After]:', after_shape)\n",
        "\n",
        "drop_percent = after_shape[0] / before_shape[0]\n",
        "print('Drop Ratio:', np.round(drop_percent, decimals = 2))"
      ],
      "execution_count": 17,
      "outputs": [
        {
          "output_type": "stream",
          "text": [
            "Data Shape [Before]: (824293, 8)\n",
            "Data Shape [After]: (797813, 8)\n",
            "Drop Ratio: 0.97\n"
          ],
          "name": "stdout"
        }
      ]
    },
    {
      "cell_type": "markdown",
      "metadata": {
        "id": "tcgwsJ3tdTtR",
        "colab_type": "text"
      },
      "source": [
        "**After Handling Duplicate Rows**"
      ]
    },
    {
      "cell_type": "code",
      "metadata": {
        "id": "NABDXvzldBUe",
        "colab_type": "code",
        "colab": {
          "base_uri": "https://localhost:8080/",
          "height": 67
        },
        "outputId": "4a892de9-420f-4f60-ab3c-3a10a7dd20ae"
      },
      "source": [
        "print('Contains Redundant Records?:', data_copy.duplicated().any())\n",
        "print('Duplicate Count:', data_copy.duplicated().sum())\n",
        "print('Data Shape:', data_copy.shape)"
      ],
      "execution_count": 18,
      "outputs": [
        {
          "output_type": "stream",
          "text": [
            "Contains Redundant Records?: False\n",
            "Duplicate Count: 0\n",
            "Data Shape: (797813, 8)\n"
          ],
          "name": "stdout"
        }
      ]
    },
    {
      "cell_type": "markdown",
      "metadata": {
        "id": "ml7Qs-2GdeFy",
        "colab_type": "text"
      },
      "source": [
        "**Applying Above Operations on Original Data**"
      ]
    },
    {
      "cell_type": "code",
      "metadata": {
        "id": "uyDkat-CdhVh",
        "colab_type": "code",
        "colab": {
          "base_uri": "https://localhost:8080/",
          "height": 84
        },
        "outputId": "b00ad377-eac1-47be-d1f2-7308003b2c1f"
      },
      "source": [
        "before_shape = data.shape\n",
        "print('Data Shape [Before]:', before_shape)\n",
        "\n",
        "data.drop_duplicates(inplace = True)\n",
        "\n",
        "after_shape = data.shape\n",
        "print('Data Shape [After]:', after_shape)\n",
        "\n",
        "drop_percent = after_shape[0] / before_shape[0]\n",
        "print('Drop Ratio:', np.round(drop_percent, decimals = 2))\n",
        "\n",
        "print('Contains Redundant Records?:', data.duplicated().any())"
      ],
      "execution_count": 19,
      "outputs": [
        {
          "output_type": "stream",
          "text": [
            "Data Shape [Before]: (824293, 8)\n",
            "Data Shape [After]: (797813, 8)\n",
            "Drop Ratio: 0.97\n",
            "Contains Redundant Records?: False\n"
          ],
          "name": "stdout"
        }
      ]
    },
    {
      "cell_type": "markdown",
      "metadata": {
        "id": "hjMjYdY5e7Yw",
        "colab_type": "text"
      },
      "source": [
        "#### **5.2.2 Identfication & Handling of Redundant Features**\n",
        "\n",
        "- For handling duplicate features we have created a custom function to identify duplicacy in features with different name but similar values below."
      ]
    },
    {
      "cell_type": "code",
      "metadata": {
        "id": "LY-MnEO1e9UA",
        "colab_type": "code",
        "colab": {}
      },
      "source": [
        "def duplicate_cols(dataframe):\n",
        "  ls1 = []\n",
        "  ls2 = []\n",
        "\n",
        "  columns = dataframe.columns.values\n",
        "  for i in range(0, len(columns)):\n",
        "    for j in range(i+1, len(columns)):\n",
        "      if (np.where(dataframe[columns[i]] == dataframe[columns[j]], True, False).all() == True):\n",
        "        ls1.append(columns[i])\n",
        "        ls2.append(columns[j])\n",
        "\n",
        "  if ((len(ls1) == 0) & (len(ls2) == 0)):\n",
        "    return None\n",
        "  else:\n",
        "    duplicate_frame = pd.DataFrame()\n",
        "    duplicate_frame['Feature 1'] = ls1\n",
        "    duplicate_frame['Feature 2'] = ls2\n",
        "    return duplicate_frame"
      ],
      "execution_count": 20,
      "outputs": []
    },
    {
      "cell_type": "markdown",
      "metadata": {
        "id": "rYFRzNCnfB23",
        "colab_type": "text"
      },
      "source": [
        "**Before Handling Redundant Columns**"
      ]
    },
    {
      "cell_type": "code",
      "metadata": {
        "id": "0CxPUjgifBDJ",
        "colab_type": "code",
        "colab": {
          "base_uri": "https://localhost:8080/",
          "height": 34
        },
        "outputId": "d670bd75-b80c-4d83-8c33-67591851fe19"
      },
      "source": [
        "print(duplicate_cols(data_copy))"
      ],
      "execution_count": 21,
      "outputs": [
        {
          "output_type": "stream",
          "text": [
            "None\n"
          ],
          "name": "stdout"
        }
      ]
    },
    {
      "cell_type": "markdown",
      "metadata": {
        "id": "MkSoz-FVfJKs",
        "colab_type": "text"
      },
      "source": [
        "**Observation:**\n",
        "\n",
        "- It turns out that there are **no duplicate columns present** in our data."
      ]
    },
    {
      "cell_type": "markdown",
      "metadata": {
        "id": "tHNZEoUwfTnu",
        "colab_type": "text"
      },
      "source": [
        "<a id = Section53></a>\n",
        "### **5.3 Identification & Handling of Inconsistent Data Types**"
      ]
    },
    {
      "cell_type": "markdown",
      "metadata": {
        "id": "bo-Rty2IfWsh",
        "colab_type": "text"
      },
      "source": [
        "**Before changes: Respective Data Type per Feature**"
      ]
    },
    {
      "cell_type": "code",
      "metadata": {
        "id": "n95hOQrKfH5S",
        "colab_type": "code",
        "colab": {
          "base_uri": "https://localhost:8080/",
          "height": 77
        },
        "outputId": "acfdea3c-6303-4f10-f305-b5fe9e86a098"
      },
      "source": [
        "type_frame = pd.DataFrame(data = data.dtypes, columns = ['Type'])\n",
        "type_frame.transpose()"
      ],
      "execution_count": 22,
      "outputs": [
        {
          "output_type": "execute_result",
          "data": {
            "text/html": [
              "<div>\n",
              "<style scoped>\n",
              "    .dataframe tbody tr th:only-of-type {\n",
              "        vertical-align: middle;\n",
              "    }\n",
              "\n",
              "    .dataframe tbody tr th {\n",
              "        vertical-align: top;\n",
              "    }\n",
              "\n",
              "    .dataframe thead th {\n",
              "        text-align: right;\n",
              "    }\n",
              "</style>\n",
              "<table border=\"1\" class=\"dataframe\">\n",
              "  <thead>\n",
              "    <tr style=\"text-align: right;\">\n",
              "      <th></th>\n",
              "      <th>Invoice</th>\n",
              "      <th>StockCode</th>\n",
              "      <th>Description</th>\n",
              "      <th>Quantity</th>\n",
              "      <th>InvoiceDate</th>\n",
              "      <th>Price</th>\n",
              "      <th>Customer ID</th>\n",
              "      <th>Country</th>\n",
              "    </tr>\n",
              "  </thead>\n",
              "  <tbody>\n",
              "    <tr>\n",
              "      <th>Type</th>\n",
              "      <td>object</td>\n",
              "      <td>object</td>\n",
              "      <td>object</td>\n",
              "      <td>int64</td>\n",
              "      <td>object</td>\n",
              "      <td>float64</td>\n",
              "      <td>float64</td>\n",
              "      <td>object</td>\n",
              "    </tr>\n",
              "  </tbody>\n",
              "</table>\n",
              "</div>"
            ],
            "text/plain": [
              "     Invoice StockCode Description Quantity InvoiceDate    Price Customer ID  \\\n",
              "Type  object  object    object      int64    object      float64  float64      \n",
              "\n",
              "     Country  \n",
              "Type  object  "
            ]
          },
          "metadata": {
            "tags": []
          },
          "execution_count": 22
        }
      ]
    },
    {
      "cell_type": "markdown",
      "metadata": {
        "id": "swF0FzAufdRB",
        "colab_type": "text"
      },
      "source": [
        "**Observation:**\n",
        "\n",
        "- **Inconsistent Feature:** \n",
        "  - Actual Type &rarr; Desired Type\n",
        "- **InvoiceDate:**\n",
        "  - Object &rarr; Datetime\n",
        "- **Customer ID:**\n",
        "  - Float &rarr; Integer"
      ]
    },
    {
      "cell_type": "markdown",
      "metadata": {
        "id": "l0pkdne8hZPD",
        "colab_type": "text"
      },
      "source": [
        "**Performing Operations**"
      ]
    },
    {
      "cell_type": "code",
      "metadata": {
        "id": "eVvOedVkhY7P",
        "colab_type": "code",
        "colab": {}
      },
      "source": [
        "data['Customer ID'] = data['Customer ID'].astype(np.int64)\n",
        "\n",
        "# Removing Time Factor (Example: 2017-12-01 07:45:00 --> 2017-12-01)\n",
        "data['InvoiceDate'] = pd.to_datetime(data['InvoiceDate']).apply(dt.date)\n",
        "\n",
        "# Transforming Object Type to Datetime\n",
        "data['InvoiceDate'] = pd.to_datetime(data['InvoiceDate'])"
      ],
      "execution_count": 23,
      "outputs": []
    },
    {
      "cell_type": "markdown",
      "metadata": {
        "id": "HPUnZfWBkwQ1",
        "colab_type": "text"
      },
      "source": [
        "**After changes: Respective Data Type per Feature**"
      ]
    },
    {
      "cell_type": "code",
      "metadata": {
        "id": "Wboaf_INisRt",
        "colab_type": "code",
        "colab": {
          "base_uri": "https://localhost:8080/",
          "height": 77
        },
        "outputId": "f76f9aba-7c13-4319-e9e3-1e4fe0b680a4"
      },
      "source": [
        "type_frame = pd.DataFrame(data = data.dtypes, columns = ['Type'])\n",
        "type_frame.transpose()"
      ],
      "execution_count": 24,
      "outputs": [
        {
          "output_type": "execute_result",
          "data": {
            "text/html": [
              "<div>\n",
              "<style scoped>\n",
              "    .dataframe tbody tr th:only-of-type {\n",
              "        vertical-align: middle;\n",
              "    }\n",
              "\n",
              "    .dataframe tbody tr th {\n",
              "        vertical-align: top;\n",
              "    }\n",
              "\n",
              "    .dataframe thead th {\n",
              "        text-align: right;\n",
              "    }\n",
              "</style>\n",
              "<table border=\"1\" class=\"dataframe\">\n",
              "  <thead>\n",
              "    <tr style=\"text-align: right;\">\n",
              "      <th></th>\n",
              "      <th>Invoice</th>\n",
              "      <th>StockCode</th>\n",
              "      <th>Description</th>\n",
              "      <th>Quantity</th>\n",
              "      <th>InvoiceDate</th>\n",
              "      <th>Price</th>\n",
              "      <th>Customer ID</th>\n",
              "      <th>Country</th>\n",
              "    </tr>\n",
              "  </thead>\n",
              "  <tbody>\n",
              "    <tr>\n",
              "      <th>Type</th>\n",
              "      <td>object</td>\n",
              "      <td>object</td>\n",
              "      <td>object</td>\n",
              "      <td>int64</td>\n",
              "      <td>datetime64[ns]</td>\n",
              "      <td>float64</td>\n",
              "      <td>int64</td>\n",
              "      <td>object</td>\n",
              "    </tr>\n",
              "  </tbody>\n",
              "</table>\n",
              "</div>"
            ],
            "text/plain": [
              "     Invoice StockCode Description Quantity     InvoiceDate    Price  \\\n",
              "Type  object  object    object      int64    datetime64[ns]  float64   \n",
              "\n",
              "     Customer ID Country  \n",
              "Type  int64       object  "
            ]
          },
          "metadata": {
            "tags": []
          },
          "execution_count": 24
        }
      ]
    },
    {
      "cell_type": "markdown",
      "metadata": {
        "id": "ddjQoNsFky5T",
        "colab_type": "text"
      },
      "source": [
        "<a id = Section54></a>\n",
        "### **5.4 Post Profiling Report**\n",
        "\n",
        "- In post profiling, we identify the changes over cleansed data."
      ]
    },
    {
      "cell_type": "code",
      "metadata": {
        "id": "TxDIEFhWj4tl",
        "colab_type": "code",
        "colab": {}
      },
      "source": [
        "#profile = ProfileReport(df = data)\n",
        "#profile.to_file(output_file = 'Post Profiling Report.html')\n",
        "#print('Accomplished!')"
      ],
      "execution_count": null,
      "outputs": []
    },
    {
      "cell_type": "code",
      "metadata": {
        "id": "m6PbsIDCYPNy",
        "colab_type": "code",
        "colab": {}
      },
      "source": [
        "#from google.colab import files                   # Use only if you are using Google Colab, otherwise remove it\n",
        "#files.download('Post Profiling Report.html')     # Use only if you are using Google Colab, otherwise remove it"
      ],
      "execution_count": null,
      "outputs": []
    },
    {
      "cell_type": "markdown",
      "metadata": {
        "id": "H0DaMbwMk5Nb",
        "colab_type": "text"
      },
      "source": [
        "**Observation:**\n",
        "\n",
        "- **Report** **shows** that there are **9 features** i.e. **4 numerical, 4 categorical and 1 date type**. \n",
        "\n",
        "- It **created** an **df_id** features that's why there are 9 featuers.\n",
        "\n",
        "- In **rest** of the part there is **no change** at all."
      ]
    },
    {
      "cell_type": "markdown",
      "metadata": {
        "id": "HVcYN6kOk9tN",
        "colab_type": "text"
      },
      "source": [
        "<a id = Section6></a>\n",
        "\n",
        "---\n",
        "# **6. Exploratory Data Analysis**\n",
        "\n",
        "- **Before** **moving** **further** into analysis, we **will** **create** a **new feature** that will **show** the **total amount spend** by customer **on** that **product**.\n",
        "\n",
        "- Another thing is while accumulating data by machine, the error was introduced in **Quantity** feature, **having** some **negative** **values**.\n",
        "\n",
        "- We **need** to **change** this **feature** with **absolute** value.\n",
        "---"
      ]
    },
    {
      "cell_type": "code",
      "metadata": {
        "id": "J5SDYAlni1OM",
        "colab_type": "code",
        "colab": {}
      },
      "source": [
        "# Converting negative values to positive\n",
        "data['Quantity'] = np.abs(data['Quantity'])\n",
        "\n",
        "# Creating a new feature\n",
        "data['TotalSpend'] = data['Quantity'] * data['Price']"
      ],
      "execution_count": 25,
      "outputs": []
    },
    {
      "cell_type": "markdown",
      "metadata": {
        "id": "3TMQLY3uhO8a",
        "colab_type": "text"
      },
      "source": [
        "**<h4>Question 1: What is the ordered quantity of product items per day by the customer?</h4>**"
      ]
    },
    {
      "cell_type": "code",
      "metadata": {
        "id": "5NEUs2kVu_NI",
        "colab_type": "code",
        "colab": {}
      },
      "source": [
        "dx = data.groupby(by = 'InvoiceDate', as_index = False).agg('sum')"
      ],
      "execution_count": 26,
      "outputs": []
    },
    {
      "cell_type": "code",
      "metadata": {
        "id": "Gw8yunyxseeE",
        "colab_type": "code",
        "colab": {
          "base_uri": "https://localhost:8080/",
          "height": 468
        },
        "outputId": "ab381d02-598a-4751-d703-417e749b1a1e"
      },
      "source": [
        "figure = plt.figure(figsize = [15, 7])\n",
        "sns.lineplot(x = 'InvoiceDate', y = 'Quantity', data = dx, color = '#D96552')\n",
        "\n",
        "plt.xlabel('Invoice Date', size = 14)\n",
        "plt.ylabel('Quantity Ordered per Day', size = 14)\n",
        "plt.legend(labels = ['Quantity Ordered per Day'], loc = 'upper right', frameon = False)\n",
        "plt.title('Quantity Ordered vs Invoice Date', size = 16)\n",
        "plt.grid(b = True, axis = 'y')\n",
        "plt.show()"
      ],
      "execution_count": 27,
      "outputs": [
        {
          "output_type": "display_data",
          "data": {
            "image/png": "[encoded data removed]",
            "text/plain": [
              "<Figure size 1080x504 with 1 Axes>"
            ]
          },
          "metadata": {
            "tags": [],
            "needs_background": "light"
          }
        }
      ]
    },
    {
      "cell_type": "markdown",
      "metadata": {
        "id": "hPuK5E3Yib_P",
        "colab_type": "text"
      },
      "source": [
        "**Observation:**\n",
        "\n",
        "We can see high quantity ordered around the month of,\n",
        "\n",
        "- September/October-2018 (~130000),\n",
        "\n",
        "- January-2019 (~160000)and \n",
        "\n",
        "- January-2019 (~175000)."
      ]
    },
    {
      "cell_type": "markdown",
      "metadata": {
        "id": "79eE1RS3y5L_",
        "colab_type": "text"
      },
      "source": [
        "**<h4>Question 2: What is the total sales of product items per day by the customer?</h4>**\n",
        "\n"
      ]
    },
    {
      "cell_type": "code",
      "metadata": {
        "id": "TsP6EL0RthtD",
        "colab_type": "code",
        "colab": {
          "base_uri": "https://localhost:8080/",
          "height": 468
        },
        "outputId": "cf331cbe-e36c-41c7-88c9-c2e8cc508f7d"
      },
      "source": [
        "figure = plt.figure(figsize = [15, 7])\n",
        "sns.lineplot(x = 'InvoiceDate', y = 'TotalSpend', data = dx, color = '#32B165')\n",
        "\n",
        "plt.xlabel('Invoice Date', size = 14)\n",
        "plt.ylabel('Total Sales per Day', size = 14)\n",
        "plt.legend(labels = ['Sales per Day'], loc = 'upper right', frameon = False)\n",
        "plt.title('Total Sales vs Invoice Date', size = 16)\n",
        "plt.grid(b = True, axis = 'y')\n",
        "plt.show()"
      ],
      "execution_count": 28,
      "outputs": [
        {
          "output_type": "display_data",
          "data": {
            "image/png": "[encoded data removed]",
            "text/plain": [
              "<Figure size 1080x504 with 1 Axes>"
            ]
          },
          "metadata": {
            "tags": [],
            "needs_background": "light"
          }
        }
      ]
    },
    {
      "cell_type": "markdown",
      "metadata": {
        "id": "VKAOVzL8kUi2",
        "colab_type": "text"
      },
      "source": [
        "**Observation:**\n",
        "\n",
        "- **Sales** around the month of **January, 2019** was pretty **high** (**~&pound;165000 pounds**).\n",
        "\n",
        "- **Sales** around the month of **December, 2019** was pretty **high** (**~&pound;360000 pounds**)."
      ]
    },
    {
      "cell_type": "markdown",
      "metadata": {
        "id": "SUM5eWV90PzF",
        "colab_type": "text"
      },
      "source": [
        "**<h4>Question 3: Which are the top 10 product that were sold at high quantity to the customer?</h4>**"
      ]
    },
    {
      "cell_type": "code",
      "metadata": {
        "id": "vrbuPYI8zGp_",
        "colab_type": "code",
        "colab": {}
      },
      "source": [
        "dx = data.groupby(by = 'Description', as_index = False).agg('sum').sort_values(by ='Quantity', ascending = False)\n",
        "# Selecting top 10 products\n",
        "top_ = dx[0:10]"
      ],
      "execution_count": 29,
      "outputs": []
    },
    {
      "cell_type": "code",
      "metadata": {
        "id": "GPjou-mm0-7q",
        "colab_type": "code",
        "colab": {
          "base_uri": "https://localhost:8080/",
          "height": 468
        },
        "outputId": "012e552d-a7a6-4feb-c21e-9fc963839316"
      },
      "source": [
        "figure = plt.figure(figsize = [15, 7])\n",
        "sns.barplot(x = 'Quantity', y ='Description', data = top_)\n",
        "plt.xlabel(xlabel = 'Quantity', size = 14)\n",
        "plt.ylabel(ylabel = 'Description', size = 14)\n",
        "plt.title(label = 'Highest Sold Product Items (Top 10)', size = 16)\n",
        "plt.grid(b = True, axis = 'x')\n",
        "plt.show()"
      ],
      "execution_count": 30,
      "outputs": [
        {
          "output_type": "display_data",
          "data": {
            "image/png": "[encoded data removed]",
            "text/plain": [
              "<Figure size 1080x504 with 1 Axes>"
            ]
          },
          "metadata": {
            "tags": [],
            "needs_background": "light"
          }
        }
      ]
    },
    {
      "cell_type": "markdown",
      "metadata": {
        "id": "dJDNuyMElTsa",
        "colab_type": "text"
      },
      "source": [
        "**Observation:**\n",
        "\n",
        "- **Paper craft, little birdie** has been **sold** at **highest** **amount** of **quantity** than any other product item."
      ]
    },
    {
      "cell_type": "markdown",
      "metadata": {
        "id": "iQ9Vw9Hn3752",
        "colab_type": "text"
      },
      "source": [
        "**<h4>Question 4: Which are the top 10 product items that were sold at low quantity to the customer?</h4>**"
      ]
    },
    {
      "cell_type": "code",
      "metadata": {
        "id": "oNd37w7K4a5H",
        "colab_type": "code",
        "colab": {}
      },
      "source": [
        "dx = data.groupby(by = 'Description', as_index = False).agg('sum').sort_values(by ='Quantity', ascending = True)\n",
        "# Selecting top 10 products\n",
        "top_ = dx[0:10]"
      ],
      "execution_count": 31,
      "outputs": []
    },
    {
      "cell_type": "code",
      "metadata": {
        "id": "q3spWPFC2WMP",
        "colab_type": "code",
        "colab": {
          "base_uri": "https://localhost:8080/",
          "height": 468
        },
        "outputId": "72643f8f-3dc4-4b30-a0fe-3b7a19d9a9e0"
      },
      "source": [
        "figure = plt.figure(figsize = [15, 7])\n",
        "sns.barplot(x = 'Quantity', y ='Description', data = top_)\n",
        "plt.xticks(ticks = range(0, 6))\n",
        "plt.xlabel(xlabel = 'Quantity', size = 14)\n",
        "plt.ylabel(ylabel = 'Description', size = 14)\n",
        "plt.title(label = 'Lowest Sold Product Items (Top 10)', size = 16)\n",
        "plt.grid(b = True, axis = 'x')\n",
        "plt.show()"
      ],
      "execution_count": 32,
      "outputs": [
        {
          "output_type": "display_data",
          "data": {
            "image/png": "[encoded data removed]",
            "text/plain": [
              "<Figure size 1080x504 with 1 Axes>"
            ]
          },
          "metadata": {
            "tags": [],
            "needs_background": "light"
          }
        }
      ]
    },
    {
      "cell_type": "markdown",
      "metadata": {
        "id": "cA1c7wGDlk-r",
        "colab_type": "text"
      },
      "source": [
        "**Observation:**\n",
        "\n",
        "- The **items** displayed **above** have been **sold** at only **unit** **quantity**."
      ]
    },
    {
      "cell_type": "markdown",
      "metadata": {
        "id": "RgQsC_XeHsDK",
        "colab_type": "text"
      },
      "source": [
        "**<h4>Question 5: What is the total amount that was spend by per country?</h4>**\n",
        "\n",
        "- **Note:** There are total 41 countries, plotting all of these in one go is complex, instead we will divide the plot."
      ]
    },
    {
      "cell_type": "code",
      "metadata": {
        "id": "0icJeJ9YIK9s",
        "colab_type": "code",
        "colab": {}
      },
      "source": [
        "dx = data.groupby(by = 'Country', as_index = False).agg('sum').sort_values(by ='TotalSpend', ascending = False)"
      ],
      "execution_count": 33,
      "outputs": []
    },
    {
      "cell_type": "code",
      "metadata": {
        "id": "c6gFJ_swJmb3",
        "colab_type": "code",
        "colab": {
          "base_uri": "https://localhost:8080/",
          "height": 564
        },
        "outputId": "bd111e41-35ee-49fc-d101-731b42db55e6"
      },
      "source": [
        "print('Note: Below X scale is different for both the plots')\n",
        "fig, (ax1, ax2) = plt.subplots(1, 2, figsize = [15, 8])\n",
        "ax1 = sns.barplot(x = 'TotalSpend', y = 'Country', data = dx[0:20], ci = None, ax = ax1)\n",
        "ax1.set_xlabel(xlabel = 'Total Spend', size = 14)\n",
        "ax1.set_ylabel(ylabel = 'Country', size = 14)\n",
        "ax1.set_title(label = 'Total Spend per Country', size = 14)\n",
        "ax1.grid(b = True, axis = 'x')\n",
        "\n",
        "ax2 = sns.barplot(x = 'TotalSpend', y = 'Country', data = dx[21:], ci = None, ax = ax2)\n",
        "ax2.set_xlabel(xlabel = 'Total Spend', size = 14)\n",
        "ax2.set_ylabel(ylabel = '')\n",
        "ax2.set_title(label = 'Total Spend per Country', size = 14)\n",
        "ax2.grid(b = True, axis = 'x')\n",
        "plt.tight_layout(pad=3.0)\n",
        "plt.show()"
      ],
      "execution_count": 34,
      "outputs": [
        {
          "output_type": "stream",
          "text": [
            "Note: Below X scale is different for both the plots\n"
          ],
          "name": "stdout"
        },
        {
          "output_type": "display_data",
          "data": {
            "image/png": "[encoded data removed]",
            "text/plain": [
              "<Figure size 1080x576 with 2 Axes>"
            ]
          },
          "metadata": {
            "tags": [],
            "needs_background": "light"
          }
        }
      ]
    },
    {
      "cell_type": "markdown",
      "metadata": {
        "id": "XfbkegCul_SQ",
        "colab_type": "text"
      },
      "source": [
        "**Observation:**\n",
        "\n",
        "- **United Kingdom** **spent** **highest** than any other country on buying items while **Nigeria** **spent** **lowest** than any other country."
      ]
    },
    {
      "cell_type": "markdown",
      "metadata": {
        "id": "38XHoMWrMLF3",
        "colab_type": "text"
      },
      "source": [
        "**Note:** These are few question, from here if you would like to explore further, you are most welcome."
      ]
    },
    {
      "cell_type": "markdown",
      "metadata": {
        "id": "fHpZUlAMnOUW",
        "colab_type": "text"
      },
      "source": [
        "<a id = Section7></a>\n",
        "\n",
        "---\n",
        "# **7. Customer Segmentation Techniques**\n",
        "\n",
        "- In this section we will explore two techniques of clustering customer i.e. using K-Means and RFM(Recency Frequency Monetary).\n",
        "---"
      ]
    },
    {
      "cell_type": "markdown",
      "metadata": {
        "id": "0MGQiAmd2G31",
        "colab_type": "text"
      },
      "source": [
        "<a id = Section71></a>\n",
        "## **7.1 Segmentation using K-Means**\n",
        "\n",
        "- We will be **segmenting** **customers** **based** **on** their **behaviour** i.e the **quantity ordered** and **total amount** on that product.\n",
        "\n",
        "- **Firstly**, we will **run** **K-means** at **default setting**. Then we will **tune** it over **multiple** **K values**, **finding optimal K**.\n",
        "\n",
        "- But **before** that we will **normalized two features** that are important for clustering i.e. **Quantity and TotalSpend**."
      ]
    },
    {
      "cell_type": "code",
      "metadata": {
        "id": "K-yTt6EYvyTW",
        "colab_type": "code",
        "colab": {}
      },
      "source": [
        "data['LogQuantity'] = np.log1p(data['Quantity'])\n",
        "data['LogTotalSpend'] = np.log1p(data['TotalSpend'])"
      ],
      "execution_count": 35,
      "outputs": []
    },
    {
      "cell_type": "code",
      "metadata": {
        "id": "Z7zK7jwT4_bB",
        "colab_type": "code",
        "colab": {
          "base_uri": "https://localhost:8080/",
          "height": 34
        },
        "outputId": "401b7b0d-e349-4cf3-cb7b-3e030b3c56d7"
      },
      "source": [
        "kmeans = KMeans(n_clusters = 8, max_iter = 500, random_state = 42, n_jobs = -1)\n",
        "kmeans.fit(data[['LogQuantity', 'LogTotalSpend']])\n",
        "print('Within Sum of Square Variation (Inertia):', kmeans.inertia_)"
      ],
      "execution_count": 36,
      "outputs": [
        {
          "output_type": "stream",
          "text": [
            "Within Sum of Square Variation (Inertia): 194514.74470222794\n"
          ],
          "name": "stdout"
        }
      ]
    },
    {
      "cell_type": "markdown",
      "metadata": {
        "id": "QQ_RC8lz82Gx",
        "colab_type": "text"
      },
      "source": [
        "### **7.1.1 Hyperparameter Tuning: Finding Optimal K**\n",
        "\n",
        "- We **will** **iterate** our model **over** **some** **iterations**, finding optimal K value for clustering.\n",
        "\n",
        "- We **check** **inertia**, defined as the mean squared distance between each instance and its closest centroid. Logically, as per the definition **lower** the **inertia** **better** the **model**.\n",
        "\n",
        "- We will **use** **Elbow** **rule** in order to **find** the **optimal** **number** of **clusters**."
      ]
    },
    {
      "cell_type": "code",
      "metadata": {
        "id": "ps35pk4A8ziI",
        "colab_type": "code",
        "colab": {
          "base_uri": "https://localhost:8080/",
          "height": 269
        },
        "outputId": "40204475-31f0-487f-fc83-b9aca7d8c7d2"
      },
      "source": [
        "# Have some patience, may take some time :)\n",
        "inertia_vals = []\n",
        "K_vals = [x for x in range(1, 16)]\n",
        "\n",
        "for i in K_vals:\n",
        "  k_model = KMeans(n_clusters = i, max_iter = 500, random_state = 42, n_jobs = -1)\n",
        "  k_model.fit(data[['LogQuantity', 'LogTotalSpend']])\n",
        "  inertia_vals.append(k_model.inertia_)\n",
        "  print('Iteration', i, 'completed')"
      ],
      "execution_count": 37,
      "outputs": [
        {
          "output_type": "stream",
          "text": [
            "Iteration 1 completed\n",
            "Iteration 2 completed\n",
            "Iteration 3 completed\n",
            "Iteration 4 completed\n",
            "Iteration 5 completed\n",
            "Iteration 6 completed\n",
            "Iteration 7 completed\n",
            "Iteration 8 completed\n",
            "Iteration 9 completed\n",
            "Iteration 10 completed\n",
            "Iteration 11 completed\n",
            "Iteration 12 completed\n",
            "Iteration 13 completed\n",
            "Iteration 14 completed\n",
            "Iteration 15 completed\n"
          ],
          "name": "stdout"
        }
      ]
    },
    {
      "cell_type": "code",
      "metadata": {
        "id": "qKDgUcrq-DNq",
        "colab_type": "code",
        "colab": {
          "base_uri": "https://localhost:8080/",
          "height": 542
        },
        "outputId": "47fb5a99-ef2f-4195-efd8-0fb79c7825e6"
      },
      "source": [
        "# Visualzing the Inertia vs K Values\n",
        "fig = go.Figure()\n",
        "\n",
        "fig.add_trace(go.Scatter(x = K_vals, y = inertia_vals, mode = 'lines+markers'))\n",
        "fig.update_layout(xaxis = dict(tickmode = 'linear', tick0 = 1, dtick = 1),\n",
        "                  title_text = 'Within Cluster Sum of Squared Distances VS K Values',\n",
        "                  title_x = 0.5,\n",
        "                  xaxis_title = 'K values',\n",
        "                  yaxis_title = 'Cluster Sum of Squared Distances')\n",
        "fig.show()"
      ],
      "execution_count": 38,
      "outputs": [
        {
          "output_type": "display_data",
          "data": {
            "text/html": [
              "<html>\n",
              "<head><meta charset=\"utf-8\" /></head>\n",
              "<body>\n",
              "    <div>\n",
              "            <script src=\"https://cdnjs.cloudflare.com/ajax/libs/mathjax/2.7.5/MathJax.js?config=TeX-AMS-MML_SVG\"></script><script type=\"text/javascript\">if (window.MathJax) {MathJax.Hub.Config({SVG: {font: \"STIX-Web\"}});}</script>\n",
              "                <script type=\"text/javascript\">window.PlotlyConfig = {MathJaxConfig: 'local'};</script>\n",
              "        <script src=\"https://cdn.plot.ly/plotly-latest.min.js\"></script>    \n",
              "            <div id=\"6a0c0047-9a24-4c0d-946a-903ae684c0f3\" class=\"plotly-graph-div\" style=\"height:525px; width:100%;\"></div>\n",
              "            <script type=\"text/javascript\">\n",
              "                \n",
              "                    window.PLOTLYENV=window.PLOTLYENV || {};\n",
              "                    \n",
              "                if (document.getElementById(\"6a0c0047-9a24-4c0d-946a-903ae684c0f3\")) {\n",
              "                    Plotly.newPlot(\n",
              "                        '6a0c0047-9a24-4c0d-946a-903ae684c0f3',\n",
              "                        [{\"mode\": \"lines+markers\", \"type\": \"scatter\", \"x\": [1, 2, 3, 4, 5, 6, 7, 8, 9, 10, 11, 12, 13, 14, 15], \"y\": [1630471.4054128728, 787134.5505725206, 502301.08634329063, 364825.21179035713, 306999.6160963773, 253397.8743829547, 221902.40160802868, 194514.74470222794, 174961.99963836742, 159625.73539975958, 141812.79237504798, 129677.185699097, 120322.84841387533, 110501.82292173052, 102665.3206254204]}],\n",
              "                        {\"template\": {\"data\": {\"bar\": [{\"error_x\": {\"color\": \"#2a3f5f\"}, \"error_y\": {\"color\": \"#2a3f5f\"}, \"marker\": {\"line\": {\"color\": \"#E5ECF6\", \"width\": 0.5}}, \"type\": \"bar\"}], \"barpolar\": [{\"marker\": {\"line\": {\"color\": \"#E5ECF6\", \"width\": 0.5}}, \"type\": \"barpolar\"}], \"carpet\": [{\"aaxis\": {\"endlinecolor\": \"#2a3f5f\", \"gridcolor\": \"white\", \"linecolor\": \"white\", \"minorgridcolor\": \"white\", \"startlinecolor\": \"#2a3f5f\"}, \"baxis\": {\"endlinecolor\": \"#2a3f5f\", \"gridcolor\": \"white\", \"linecolor\": \"white\", \"minorgridcolor\": \"white\", \"startlinecolor\": \"#2a3f5f\"}, \"type\": \"carpet\"}], \"choropleth\": [{\"colorbar\": {\"outlinewidth\": 0, \"ticks\": \"\"}, \"type\": \"choropleth\"}], \"contour\": [{\"colorbar\": {\"outlinewidth\": 0, \"ticks\": \"\"}, \"colorscale\": [[0.0, \"#0d0887\"], [0.1111111111111111, \"#46039f\"], [0.2222222222222222, \"#7201a8\"], [0.3333333333333333, \"#9c179e\"], [0.4444444444444444, \"#bd3786\"], [0.5555555555555556, \"#d8576b\"], [0.6666666666666666, \"#ed7953\"], [0.7777777777777778, \"#fb9f3a\"], [0.8888888888888888, \"#fdca26\"], [1.0, \"#f0f921\"]], \"type\": \"contour\"}], \"contourcarpet\": [{\"colorbar\": {\"outlinewidth\": 0, \"ticks\": \"\"}, \"type\": \"contourcarpet\"}], \"heatmap\": [{\"colorbar\": {\"outlinewidth\": 0, \"ticks\": \"\"}, \"colorscale\": [[0.0, \"#0d0887\"], [0.1111111111111111, \"#46039f\"], [0.2222222222222222, \"#7201a8\"], [0.3333333333333333, \"#9c179e\"], [0.4444444444444444, \"#bd3786\"], [0.5555555555555556, \"#d8576b\"], [0.6666666666666666, \"#ed7953\"], [0.7777777777777778, \"#fb9f3a\"], [0.8888888888888888, \"#fdca26\"], [1.0, \"#f0f921\"]], \"type\": \"heatmap\"}], \"heatmapgl\": [{\"colorbar\": {\"outlinewidth\": 0, \"ticks\": \"\"}, \"colorscale\": [[0.0, \"#0d0887\"], [0.1111111111111111, \"#46039f\"], [0.2222222222222222, \"#7201a8\"], [0.3333333333333333, \"#9c179e\"], [0.4444444444444444, \"#bd3786\"], [0.5555555555555556, \"#d8576b\"], [0.6666666666666666, \"#ed7953\"], [0.7777777777777778, \"#fb9f3a\"], [0.8888888888888888, \"#fdca26\"], [1.0, \"#f0f921\"]], \"type\": \"heatmapgl\"}], \"histogram\": [{\"marker\": {\"colorbar\": {\"outlinewidth\": 0, \"ticks\": \"\"}}, \"type\": \"histogram\"}], \"histogram2d\": [{\"colorbar\": {\"outlinewidth\": 0, \"ticks\": \"\"}, \"colorscale\": [[0.0, \"#0d0887\"], [0.1111111111111111, \"#46039f\"], [0.2222222222222222, \"#7201a8\"], [0.3333333333333333, \"#9c179e\"], [0.4444444444444444, \"#bd3786\"], [0.5555555555555556, \"#d8576b\"], [0.6666666666666666, \"#ed7953\"], [0.7777777777777778, \"#fb9f3a\"], [0.8888888888888888, \"#fdca26\"], [1.0, \"#f0f921\"]], \"type\": \"histogram2d\"}], \"histogram2dcontour\": [{\"colorbar\": {\"outlinewidth\": 0, \"ticks\": \"\"}, \"colorscale\": [[0.0, \"#0d0887\"], [0.1111111111111111, \"#46039f\"], [0.2222222222222222, \"#7201a8\"], [0.3333333333333333, \"#9c179e\"], [0.4444444444444444, \"#bd3786\"], [0.5555555555555556, \"#d8576b\"], [0.6666666666666666, \"#ed7953\"], [0.7777777777777778, \"#fb9f3a\"], [0.8888888888888888, \"#fdca26\"], [1.0, \"#f0f921\"]], \"type\": \"histogram2dcontour\"}], \"mesh3d\": [{\"colorbar\": {\"outlinewidth\": 0, \"ticks\": \"\"}, \"type\": \"mesh3d\"}], \"parcoords\": [{\"line\": {\"colorbar\": {\"outlinewidth\": 0, \"ticks\": \"\"}}, \"type\": \"parcoords\"}], \"pie\": [{\"automargin\": true, \"type\": \"pie\"}], \"scatter\": [{\"marker\": {\"colorbar\": {\"outlinewidth\": 0, \"ticks\": \"\"}}, \"type\": \"scatter\"}], \"scatter3d\": [{\"line\": {\"colorbar\": {\"outlinewidth\": 0, \"ticks\": \"\"}}, \"marker\": {\"colorbar\": {\"outlinewidth\": 0, \"ticks\": \"\"}}, \"type\": \"scatter3d\"}], \"scattercarpet\": [{\"marker\": {\"colorbar\": {\"outlinewidth\": 0, \"ticks\": \"\"}}, \"type\": \"scattercarpet\"}], \"scattergeo\": [{\"marker\": {\"colorbar\": {\"outlinewidth\": 0, \"ticks\": \"\"}}, \"type\": \"scattergeo\"}], \"scattergl\": [{\"marker\": {\"colorbar\": {\"outlinewidth\": 0, \"ticks\": \"\"}}, \"type\": \"scattergl\"}], \"scattermapbox\": [{\"marker\": {\"colorbar\": {\"outlinewidth\": 0, \"ticks\": \"\"}}, \"type\": \"scattermapbox\"}], \"scatterpolar\": [{\"marker\": {\"colorbar\": {\"outlinewidth\": 0, \"ticks\": \"\"}}, \"type\": \"scatterpolar\"}], \"scatterpolargl\": [{\"marker\": {\"colorbar\": {\"outlinewidth\": 0, \"ticks\": \"\"}}, \"type\": \"scatterpolargl\"}], \"scatterternary\": [{\"marker\": {\"colorbar\": {\"outlinewidth\": 0, \"ticks\": \"\"}}, \"type\": \"scatterternary\"}], \"surface\": [{\"colorbar\": {\"outlinewidth\": 0, \"ticks\": \"\"}, \"colorscale\": [[0.0, \"#0d0887\"], [0.1111111111111111, \"#46039f\"], [0.2222222222222222, \"#7201a8\"], [0.3333333333333333, \"#9c179e\"], [0.4444444444444444, \"#bd3786\"], [0.5555555555555556, \"#d8576b\"], [0.6666666666666666, \"#ed7953\"], [0.7777777777777778, \"#fb9f3a\"], [0.8888888888888888, \"#fdca26\"], [1.0, \"#f0f921\"]], \"type\": \"surface\"}], \"table\": [{\"cells\": {\"fill\": {\"color\": \"#EBF0F8\"}, \"line\": {\"color\": \"white\"}}, \"header\": {\"fill\": {\"color\": \"#C8D4E3\"}, \"line\": {\"color\": \"white\"}}, \"type\": \"table\"}]}, \"layout\": {\"annotationdefaults\": {\"arrowcolor\": \"#2a3f5f\", \"arrowhead\": 0, \"arrowwidth\": 1}, \"coloraxis\": {\"colorbar\": {\"outlinewidth\": 0, \"ticks\": \"\"}}, \"colorscale\": {\"diverging\": [[0, \"#8e0152\"], [0.1, \"#c51b7d\"], [0.2, \"#de77ae\"], [0.3, \"#f1b6da\"], [0.4, \"#fde0ef\"], [0.5, \"#f7f7f7\"], [0.6, \"#e6f5d0\"], [0.7, \"#b8e186\"], [0.8, \"#7fbc41\"], [0.9, \"#4d9221\"], [1, \"#276419\"]], \"sequential\": [[0.0, \"#0d0887\"], [0.1111111111111111, \"#46039f\"], [0.2222222222222222, \"#7201a8\"], [0.3333333333333333, \"#9c179e\"], [0.4444444444444444, \"#bd3786\"], [0.5555555555555556, \"#d8576b\"], [0.6666666666666666, \"#ed7953\"], [0.7777777777777778, \"#fb9f3a\"], [0.8888888888888888, \"#fdca26\"], [1.0, \"#f0f921\"]], \"sequentialminus\": [[0.0, \"#0d0887\"], [0.1111111111111111, \"#46039f\"], [0.2222222222222222, \"#7201a8\"], [0.3333333333333333, \"#9c179e\"], [0.4444444444444444, \"#bd3786\"], [0.5555555555555556, \"#d8576b\"], [0.6666666666666666, \"#ed7953\"], [0.7777777777777778, \"#fb9f3a\"], [0.8888888888888888, \"#fdca26\"], [1.0, \"#f0f921\"]]}, \"colorway\": [\"#636efa\", \"#EF553B\", \"#00cc96\", \"#ab63fa\", \"#FFA15A\", \"#19d3f3\", \"#FF6692\", \"#B6E880\", \"#FF97FF\", \"#FECB52\"], \"font\": {\"color\": \"#2a3f5f\"}, \"geo\": {\"bgcolor\": \"white\", \"lakecolor\": \"white\", \"landcolor\": \"#E5ECF6\", \"showlakes\": true, \"showland\": true, \"subunitcolor\": \"white\"}, \"hoverlabel\": {\"align\": \"left\"}, \"hovermode\": \"closest\", \"mapbox\": {\"style\": \"light\"}, \"paper_bgcolor\": \"white\", \"plot_bgcolor\": \"#E5ECF6\", \"polar\": {\"angularaxis\": {\"gridcolor\": \"white\", \"linecolor\": \"white\", \"ticks\": \"\"}, \"bgcolor\": \"#E5ECF6\", \"radialaxis\": {\"gridcolor\": \"white\", \"linecolor\": \"white\", \"ticks\": \"\"}}, \"scene\": {\"xaxis\": {\"backgroundcolor\": \"#E5ECF6\", \"gridcolor\": \"white\", \"gridwidth\": 2, \"linecolor\": \"white\", \"showbackground\": true, \"ticks\": \"\", \"zerolinecolor\": \"white\"}, \"yaxis\": {\"backgroundcolor\": \"#E5ECF6\", \"gridcolor\": \"white\", \"gridwidth\": 2, \"linecolor\": \"white\", \"showbackground\": true, \"ticks\": \"\", \"zerolinecolor\": \"white\"}, \"zaxis\": {\"backgroundcolor\": \"#E5ECF6\", \"gridcolor\": \"white\", \"gridwidth\": 2, \"linecolor\": \"white\", \"showbackground\": true, \"ticks\": \"\", \"zerolinecolor\": \"white\"}}, \"shapedefaults\": {\"line\": {\"color\": \"#2a3f5f\"}}, \"ternary\": {\"aaxis\": {\"gridcolor\": \"white\", \"linecolor\": \"white\", \"ticks\": \"\"}, \"baxis\": {\"gridcolor\": \"white\", \"linecolor\": \"white\", \"ticks\": \"\"}, \"bgcolor\": \"#E5ECF6\", \"caxis\": {\"gridcolor\": \"white\", \"linecolor\": \"white\", \"ticks\": \"\"}}, \"title\": {\"x\": 0.05}, \"xaxis\": {\"automargin\": true, \"gridcolor\": \"white\", \"linecolor\": \"white\", \"ticks\": \"\", \"title\": {\"standoff\": 15}, \"zerolinecolor\": \"white\", \"zerolinewidth\": 2}, \"yaxis\": {\"automargin\": true, \"gridcolor\": \"white\", \"linecolor\": \"white\", \"ticks\": \"\", \"title\": {\"standoff\": 15}, \"zerolinecolor\": \"white\", \"zerolinewidth\": 2}}}, \"title\": {\"text\": \"Within Cluster Sum of Squared Distances VS K Values\", \"x\": 0.5}, \"xaxis\": {\"dtick\": 1, \"tick0\": 1, \"tickmode\": \"linear\", \"title\": {\"text\": \"K values\"}}, \"yaxis\": {\"title\": {\"text\": \"Cluster Sum of Squared Distances\"}}},\n",
              "                        {\"responsive\": true}\n",
              "                    ).then(function(){\n",
              "                            \n",
              "var gd = document.getElementById('6a0c0047-9a24-4c0d-946a-903ae684c0f3');\n",
              "var x = new MutationObserver(function (mutations, observer) {{\n",
              "        var display = window.getComputedStyle(gd).display;\n",
              "        if (!display || display === 'none') {{\n",
              "            console.log([gd, 'removed!']);\n",
              "            Plotly.purge(gd);\n",
              "            observer.disconnect();\n",
              "        }}\n",
              "}});\n",
              "\n",
              "// Listen for the removal of the full notebook cells\n",
              "var notebookContainer = gd.closest('#notebook-container');\n",
              "if (notebookContainer) {{\n",
              "    x.observe(notebookContainer, {childList: true});\n",
              "}}\n",
              "\n",
              "// Listen for the clearing of the current output cell\n",
              "var outputEl = gd.closest('.output');\n",
              "if (outputEl) {{\n",
              "    x.observe(outputEl, {childList: true});\n",
              "}}\n",
              "\n",
              "                        })\n",
              "                };\n",
              "                \n",
              "            </script>\n",
              "        </div>\n",
              "</body>\n",
              "</html>"
            ]
          },
          "metadata": {
            "tags": []
          }
        }
      ]
    },
    {
      "cell_type": "markdown",
      "metadata": {
        "id": "nUPdMBTbtNZc",
        "colab_type": "text"
      },
      "source": [
        "**Observation:**\n",
        "\n",
        "- As we can see that the **cluster sum of squared distances** **values** are **pretty high**.\n",
        "\n",
        "- We can see that **after** **K = 5**, there is **significant** **drop** in **inertia**.\n",
        "\n",
        "- So **K = 5 is optimal** for our **solution**."
      ]
    },
    {
      "cell_type": "markdown",
      "metadata": {
        "id": "kN9HupmHGco_",
        "colab_type": "text"
      },
      "source": [
        "### **7.1.2 Final Model**"
      ]
    },
    {
      "cell_type": "code",
      "metadata": {
        "id": "EJDF7_RI_lBw",
        "colab_type": "code",
        "colab": {}
      },
      "source": [
        "kmeans = KMeans(n_clusters = 5, max_iter = 500, random_state = 42, n_jobs = -1)\n",
        "kmeans.fit(X = data[['LogQuantity', 'LogTotalSpend']])\n",
        "data['Labels'] = kmeans.labels_\n",
        "centers = kmeans.cluster_centers_"
      ],
      "execution_count": 39,
      "outputs": []
    },
    {
      "cell_type": "markdown",
      "metadata": {
        "id": "-76M-S-SzCSi",
        "colab_type": "text"
      },
      "source": [
        "### **7.1.3 Visualization of Clusters**"
      ]
    },
    {
      "cell_type": "code",
      "metadata": {
        "id": "vVeZNYtA4LUr",
        "colab_type": "code",
        "colab": {
          "base_uri": "https://localhost:8080/",
          "height": 468
        },
        "outputId": "1db599c3-83cf-407b-cb1a-fc9802087945"
      },
      "source": [
        "fig, ax1 = plt.subplots(1, 1, figsize = [15, 7])\n",
        "ax1.scatter(x = data['LogQuantity'], y = data['LogTotalSpend'], marker='.', s = 30, lw = 0, alpha = 0.7, c = data['Labels'], edgecolor = 'k')\n",
        "ax1.scatter(x = centers[:, 0], y = centers[:, 1], marker = 'o', c = \"white\", alpha = 1, s = 200, edgecolor = 'k')\n",
        "for i, c in enumerate(centers):\n",
        "  ax1.scatter(x = c[0], y = c[1], marker = '$%d$' % i, alpha = 1, s = 50, edgecolor = 'k')\n",
        "plt.xlabel(xlabel = 'Feature Space 1 (LogQuantity)', size = 14)\n",
        "plt.ylabel(ylabel = 'Feature Space 2 (LogTotalSpend)', size = 14)\n",
        "plt.title(label = 'Visualization of Clustered Data', size = 16)\n",
        "plt.show()"
      ],
      "execution_count": 40,
      "outputs": [
        {
          "output_type": "display_data",
          "data": {
            "image/png": "[encoded data removed]",
            "text/plain": [
              "<Figure size 1080x504 with 1 Axes>"
            ]
          },
          "metadata": {
            "tags": [],
            "needs_background": "light"
          }
        }
      ]
    },
    {
      "cell_type": "markdown",
      "metadata": {
        "id": "NbmZ8hENDnAA",
        "colab_type": "text"
      },
      "source": [
        "**Observation:**\n",
        "\n",
        "- We can see **clusters** and their **respective centroids** are very **dense**.\n",
        "\n",
        "- **To** **understand** **better** we will **look** at the **count** of each **cluster label**."
      ]
    },
    {
      "cell_type": "code",
      "metadata": {
        "id": "qIqcf2Ew6Ogx",
        "colab_type": "code",
        "colab": {
          "base_uri": "https://localhost:8080/",
          "height": 468
        },
        "outputId": "b7514f74-c193-4a03-f156-a912b7fb19dd"
      },
      "source": [
        "figure = plt.figure(figsize = [15, 7])\n",
        "flatui = [\"#440154\", \"#3B528B\", \"#21918C\", \"#5EC962\", \"#FDEB5E\"]\n",
        "ax = sns.countplot(x = 'Labels', data = data, palette = sns.color_palette(flatui))\n",
        "\n",
        "total = data.shape[0]\n",
        "for p in ax.patches:\n",
        "  percentage = '{:.2f}%'.format(100*p.get_height()/ total)\n",
        "  x = p.get_x() + p.get_width() / 3\n",
        "  y = p.get_y() + p.get_height()\n",
        "  ax.annotate(percentage, (x, y))\n",
        "\n",
        "plt.xlabel('Clusters', size = 14)\n",
        "plt.ylabel('Frequency', size = 14)\n",
        "plt.title(label = 'Frequency distribution of Customers', size = 16)\n",
        "plt.show()"
      ],
      "execution_count": 41,
      "outputs": [
        {
          "output_type": "display_data",
          "data": {
            "image/png": "[encoded data removed]",
            "text/plain": [
              "<Figure size 1080x504 with 1 Axes>"
            ]
          },
          "metadata": {
            "tags": [],
            "needs_background": "light"
          }
        }
      ]
    },
    {
      "cell_type": "markdown",
      "metadata": {
        "id": "JXKfaOO6D4in",
        "colab_type": "text"
      },
      "source": [
        "**Observation:**\n",
        "\n",
        "- We can see that **clusters 1 and 4 are more profitable** **because** they seem to **order more quantity** as well as have **high purchase** values.\n",
        "\n",
        "- For the **cluster 2**, both the **quantity and purchase** value is **less**.\n",
        "\n",
        "- For the **cluster 0**, though the **quantity** ordered is **less**, the **purchase** value is **greater** than the cluster 3.\n",
        "\n",
        "- On the other hand, the **cluster 3** has **higher quantity** ordered **than cluster 0** but the **purchase** value is **lesser**."
      ]
    },
    {
      "cell_type": "markdown",
      "metadata": {
        "id": "m8y5GyH_Ar-x",
        "colab_type": "text"
      },
      "source": [
        "**Having identified the charactersitics of each cluster, we can roll out targeted advertising, promotion offers, etc.**"
      ]
    },
    {
      "cell_type": "markdown",
      "metadata": {
        "id": "A2NQ8LqW05fW",
        "colab_type": "text"
      },
      "source": [
        "<a id = Section72></a>\n",
        "## **7.2 Segmentation using RFM**\n",
        "\n",
        "- RFM stands for **Recency**, **Frequency** and **Monetary**.\n",
        "  - **RECENCY (R):** Days since last purchase. If score value is high it signifies that customer recently visited the shop.\n",
        "\n",
        "  - **FREQUENCY (F):** Total number of purchases. If score value is high it signifies that customer buying frequency is high.\n",
        "\n",
        "  - **MONETARY (M):** Total money customer spent. If score value is high it signifies that customer spending habit is high.\n",
        "\n",
        "- It is a very **old technique** to **segment** the **customers** and it **works** **very** **well**.\n",
        "\n",
        "- But it **work** **with** very **recent** **date**, so we **choose** **date** which is **one** **day** **more** than the **data of last day**.\n",
        "\n",
        "**<h3>Working:</h3>**\n",
        "- Firstly, we will calculate the RFM metrics for each customer.\n",
        "\n",
        "|#|Customer|Recency|Frequency|Monetary|\n",
        "| :-- | :-- | :-- | :-- | :-- |\n",
        "|01|A|53 days|3 transactions|&pound;230|\n",
        "|02|B|120 days|10 transactions|&pound;900|\n",
        "|03|C|10 days|8 transactions|&pound;200|\n",
        "\n",
        "- Secondly, we will add segment numbers to RFM table.\n",
        "\n",
        "|#|Customer|Recency|Frequency|Monetary|R|F|M|\n",
        "| :-- | :-- | :-- | :-- | :-- | :-- | :-- | :--|\n",
        "|01|A|53 days|3 transactions|&pound;230|2|2|2\n",
        "|02|B|120 days|10 transactions|&pound;900|1|1|2|\n",
        "|03|C|10 days|8 transactions|&pound;200|3|3|3|\n",
        "\n",
        "- Finally, Sort according to the RFM scores from the best customers (score 444).\n",
        "\n",
        "|#|Segment|RFM|Description|Marketing|\n",
        "| :-- | :-- | :-- | :-- | :-- |\n",
        "|01|Best Customers|444|Bought most recently and most often, and spend the most|No price incentives, new products and loyalty programs.|\n",
        "|02|Loyal Customers|X4X|Buys most frequently|Use R and F to further segment.|\n",
        "|03|Big Spenders|XX4|Spends the most|Market your most expensive products.|\n",
        "|04|Almost Lost|244|Haven't purchased for sometime, but purchased frequently and spend the most|Aggresive price incentives.|\n",
        "|05|Lost Customers|144|Haven't puchased for some time, but purchased frequently and spend the most|Aggressive price incentives.|\n",
        "|06|Lost Cheap Customers|111|Last purchase long ago, purchased few, and spent little.|Don't spend too much trying to re-acquire.|\n"
      ]
    },
    {
      "cell_type": "code",
      "metadata": {
        "id": "w9MZyK_33aJX",
        "colab_type": "code",
        "colab": {
          "base_uri": "https://localhost:8080/",
          "height": 34
        },
        "outputId": "60389809-636b-4bb9-a5ae-d912bc0f1687"
      },
      "source": [
        "print('Last Date:', data['InvoiceDate'].max())"
      ],
      "execution_count": 42,
      "outputs": [
        {
          "output_type": "stream",
          "text": [
            "Last Date: 2019-12-09 00:00:00\n"
          ],
          "name": "stdout"
        }
      ]
    },
    {
      "cell_type": "code",
      "metadata": {
        "id": "_XwD6L-F6m2q",
        "colab_type": "code",
        "colab": {}
      },
      "source": [
        "NOW = datetime.datetime(2019,12,10)"
      ],
      "execution_count": 43,
      "outputs": []
    },
    {
      "cell_type": "code",
      "metadata": {
        "id": "AG05LAntoJmv",
        "colab_type": "code",
        "colab": {
          "base_uri": "https://localhost:8080/",
          "height": 195
        },
        "outputId": "aaaf96e6-4fb9-48e5-a115-de5ca92bb467"
      },
      "source": [
        "rmf_table = data.groupby(by = 'Customer ID', as_index = False).agg({'InvoiceDate': lambda x: (NOW - x.max()).days, \n",
        "                                                                    'Invoice': lambda x: len(x), \n",
        "                                                                    'TotalSpend': lambda x: x.sum()})\n",
        "rmf_table.rename(columns = {'InvoiceDate':'Recency', 'Invoice':'Frequency', 'TotalSpend':'Monetary'}, inplace = True)\n",
        "rmf_table.head()"
      ],
      "execution_count": 44,
      "outputs": [
        {
          "output_type": "execute_result",
          "data": {
            "text/html": [
              "<div>\n",
              "<style scoped>\n",
              "    .dataframe tbody tr th:only-of-type {\n",
              "        vertical-align: middle;\n",
              "    }\n",
              "\n",
              "    .dataframe tbody tr th {\n",
              "        vertical-align: top;\n",
              "    }\n",
              "\n",
              "    .dataframe thead th {\n",
              "        text-align: right;\n",
              "    }\n",
              "</style>\n",
              "<table border=\"1\" class=\"dataframe\">\n",
              "  <thead>\n",
              "    <tr style=\"text-align: right;\">\n",
              "      <th></th>\n",
              "      <th>Customer ID</th>\n",
              "      <th>Recency</th>\n",
              "      <th>Frequency</th>\n",
              "      <th>Monetary</th>\n",
              "    </tr>\n",
              "  </thead>\n",
              "  <tbody>\n",
              "    <tr>\n",
              "      <th>0</th>\n",
              "      <td>12346</td>\n",
              "      <td>326</td>\n",
              "      <td>47</td>\n",
              "      <td>155164.66</td>\n",
              "    </tr>\n",
              "    <tr>\n",
              "      <th>1</th>\n",
              "      <td>12347</td>\n",
              "      <td>3</td>\n",
              "      <td>222</td>\n",
              "      <td>4921.53</td>\n",
              "    </tr>\n",
              "    <tr>\n",
              "      <th>2</th>\n",
              "      <td>12348</td>\n",
              "      <td>76</td>\n",
              "      <td>51</td>\n",
              "      <td>2019.40</td>\n",
              "    </tr>\n",
              "    <tr>\n",
              "      <th>3</th>\n",
              "      <td>12349</td>\n",
              "      <td>19</td>\n",
              "      <td>180</td>\n",
              "      <td>4452.84</td>\n",
              "    </tr>\n",
              "    <tr>\n",
              "      <th>4</th>\n",
              "      <td>12350</td>\n",
              "      <td>311</td>\n",
              "      <td>17</td>\n",
              "      <td>334.40</td>\n",
              "    </tr>\n",
              "  </tbody>\n",
              "</table>\n",
              "</div>"
            ],
            "text/plain": [
              "   Customer ID  Recency  Frequency   Monetary\n",
              "0  12346        326      47         155164.66\n",
              "1  12347        3        222        4921.53  \n",
              "2  12348        76       51         2019.40  \n",
              "3  12349        19       180        4452.84  \n",
              "4  12350        311      17         334.40   "
            ]
          },
          "metadata": {
            "tags": []
          },
          "execution_count": 44
        }
      ]
    },
    {
      "cell_type": "markdown",
      "metadata": {
        "id": "HfGJMPWD311o",
        "colab_type": "text"
      },
      "source": [
        "**Next we will segment the data according to the percentile i.e. 25%, 50% and 75%.**"
      ]
    },
    {
      "cell_type": "code",
      "metadata": {
        "id": "lpME2Sw0qu6s",
        "colab_type": "code",
        "colab": {
          "base_uri": "https://localhost:8080/",
          "height": 84
        },
        "outputId": "e76c0311-7164-4157-e802-2e816dd15b33"
      },
      "source": [
        "quantiles = rmf_table.quantile(q = [0.25, 0.5, 0.75])\n",
        "quantiles = quantiles.to_dict()\n",
        "quantiles"
      ],
      "execution_count": 45,
      "outputs": [
        {
          "output_type": "execute_result",
          "data": {
            "text/plain": [
              "{'Customer ID': {0.25: 13831.5, 0.5: 15318.0, 0.75: 16802.5},\n",
              " 'Frequency': {0.25: 20.0, 0.5: 52.0, 0.75: 140.0},\n",
              " 'Monetary': {0.25: 342.32, 0.5: 880.8100000000002, 0.75: 2316.635},\n",
              " 'Recency': {0.25: 25.0, 0.5: 96.0, 0.75: 382.0}}"
            ]
          },
          "metadata": {
            "tags": []
          },
          "execution_count": 45
        }
      ]
    },
    {
      "cell_type": "markdown",
      "metadata": {
        "id": "HHWxn1AH4169",
        "colab_type": "text"
      },
      "source": [
        "**Below we have created two functions that will help in achieving R, F and M values**."
      ]
    },
    {
      "cell_type": "code",
      "metadata": {
        "id": "N-Bh5p7et9KS",
        "colab_type": "code",
        "colab": {}
      },
      "source": [
        "def calRecency(x, y, z):\n",
        "  if x <= z[y][0.25]:\n",
        "    return 4\n",
        "  elif x <= z[y][0.50]:\n",
        "    return 3\n",
        "  elif x <= z[y][0.75]:\n",
        "    return 2\n",
        "  else:\n",
        "    return 1\n",
        "\n",
        "def calFrequencyMonetary(x, y, z):\n",
        "  if x <= z[y][0.25]:\n",
        "    return 1\n",
        "  elif x <= z[y][0.50]:\n",
        "    return 2\n",
        "  elif x <= z[y][0.75]:\n",
        "    return 3\n",
        "  else:\n",
        "    return 4"
      ],
      "execution_count": 46,
      "outputs": []
    },
    {
      "cell_type": "code",
      "metadata": {
        "id": "_6erJoqTy45f",
        "colab_type": "code",
        "colab": {}
      },
      "source": [
        "rmf_table['R Value'] = rmf_table['Recency'].apply(calRecency, args = ('Recency', quantiles))\n",
        "rmf_table['F Value'] = rmf_table['Frequency'].apply(calFrequencyMonetary, args = ('Frequency', quantiles))\n",
        "rmf_table['M Value'] = rmf_table['Monetary'].apply(calFrequencyMonetary, args = ('Monetary', quantiles))"
      ],
      "execution_count": 47,
      "outputs": []
    },
    {
      "cell_type": "code",
      "metadata": {
        "id": "yyzXcMobz4Qz",
        "colab_type": "code",
        "colab": {
          "base_uri": "https://localhost:8080/",
          "height": 195
        },
        "outputId": "76d85ba7-605a-4988-c6d1-c449def0f4e2"
      },
      "source": [
        "rmf_table.head()"
      ],
      "execution_count": 48,
      "outputs": [
        {
          "output_type": "execute_result",
          "data": {
            "text/html": [
              "<div>\n",
              "<style scoped>\n",
              "    .dataframe tbody tr th:only-of-type {\n",
              "        vertical-align: middle;\n",
              "    }\n",
              "\n",
              "    .dataframe tbody tr th {\n",
              "        vertical-align: top;\n",
              "    }\n",
              "\n",
              "    .dataframe thead th {\n",
              "        text-align: right;\n",
              "    }\n",
              "</style>\n",
              "<table border=\"1\" class=\"dataframe\">\n",
              "  <thead>\n",
              "    <tr style=\"text-align: right;\">\n",
              "      <th></th>\n",
              "      <th>Customer ID</th>\n",
              "      <th>Recency</th>\n",
              "      <th>Frequency</th>\n",
              "      <th>Monetary</th>\n",
              "      <th>R Value</th>\n",
              "      <th>F Value</th>\n",
              "      <th>M Value</th>\n",
              "    </tr>\n",
              "  </thead>\n",
              "  <tbody>\n",
              "    <tr>\n",
              "      <th>0</th>\n",
              "      <td>12346</td>\n",
              "      <td>326</td>\n",
              "      <td>47</td>\n",
              "      <td>155164.66</td>\n",
              "      <td>2</td>\n",
              "      <td>2</td>\n",
              "      <td>4</td>\n",
              "    </tr>\n",
              "    <tr>\n",
              "      <th>1</th>\n",
              "      <td>12347</td>\n",
              "      <td>3</td>\n",
              "      <td>222</td>\n",
              "      <td>4921.53</td>\n",
              "      <td>4</td>\n",
              "      <td>4</td>\n",
              "      <td>4</td>\n",
              "    </tr>\n",
              "    <tr>\n",
              "      <th>2</th>\n",
              "      <td>12348</td>\n",
              "      <td>76</td>\n",
              "      <td>51</td>\n",
              "      <td>2019.40</td>\n",
              "      <td>3</td>\n",
              "      <td>2</td>\n",
              "      <td>3</td>\n",
              "    </tr>\n",
              "    <tr>\n",
              "      <th>3</th>\n",
              "      <td>12349</td>\n",
              "      <td>19</td>\n",
              "      <td>180</td>\n",
              "      <td>4452.84</td>\n",
              "      <td>4</td>\n",
              "      <td>4</td>\n",
              "      <td>4</td>\n",
              "    </tr>\n",
              "    <tr>\n",
              "      <th>4</th>\n",
              "      <td>12350</td>\n",
              "      <td>311</td>\n",
              "      <td>17</td>\n",
              "      <td>334.40</td>\n",
              "      <td>2</td>\n",
              "      <td>1</td>\n",
              "      <td>1</td>\n",
              "    </tr>\n",
              "  </tbody>\n",
              "</table>\n",
              "</div>"
            ],
            "text/plain": [
              "   Customer ID  Recency  Frequency   Monetary  R Value  F Value  M Value\n",
              "0  12346        326      47         155164.66  2        2        4      \n",
              "1  12347        3        222        4921.53    4        4        4      \n",
              "2  12348        76       51         2019.40    3        2        3      \n",
              "3  12349        19       180        4452.84    4        4        4      \n",
              "4  12350        311      17         334.40     2        1        1      "
            ]
          },
          "metadata": {
            "tags": []
          },
          "execution_count": 48
        }
      ]
    },
    {
      "cell_type": "markdown",
      "metadata": {
        "id": "7PKLslBC5Dfl",
        "colab_type": "text"
      },
      "source": [
        "**Now we will append R, F and M score to a single feature.**"
      ]
    },
    {
      "cell_type": "code",
      "metadata": {
        "id": "oPpKK1uKzU3r",
        "colab_type": "code",
        "colab": {
          "base_uri": "https://localhost:8080/",
          "height": 195
        },
        "outputId": "653695ad-fa38-4f04-b739-a836a59bdb1d"
      },
      "source": [
        "rmf_table['RFM Score'] = rmf_table['R Value'].map(str) + rmf_table['F Value'].map(str) + rmf_table['M Value'].map(str)\n",
        "rmf_table.head()"
      ],
      "execution_count": 49,
      "outputs": [
        {
          "output_type": "execute_result",
          "data": {
            "text/html": [
              "<div>\n",
              "<style scoped>\n",
              "    .dataframe tbody tr th:only-of-type {\n",
              "        vertical-align: middle;\n",
              "    }\n",
              "\n",
              "    .dataframe tbody tr th {\n",
              "        vertical-align: top;\n",
              "    }\n",
              "\n",
              "    .dataframe thead th {\n",
              "        text-align: right;\n",
              "    }\n",
              "</style>\n",
              "<table border=\"1\" class=\"dataframe\">\n",
              "  <thead>\n",
              "    <tr style=\"text-align: right;\">\n",
              "      <th></th>\n",
              "      <th>Customer ID</th>\n",
              "      <th>Recency</th>\n",
              "      <th>Frequency</th>\n",
              "      <th>Monetary</th>\n",
              "      <th>R Value</th>\n",
              "      <th>F Value</th>\n",
              "      <th>M Value</th>\n",
              "      <th>RFM Score</th>\n",
              "    </tr>\n",
              "  </thead>\n",
              "  <tbody>\n",
              "    <tr>\n",
              "      <th>0</th>\n",
              "      <td>12346</td>\n",
              "      <td>326</td>\n",
              "      <td>47</td>\n",
              "      <td>155164.66</td>\n",
              "      <td>2</td>\n",
              "      <td>2</td>\n",
              "      <td>4</td>\n",
              "      <td>224</td>\n",
              "    </tr>\n",
              "    <tr>\n",
              "      <th>1</th>\n",
              "      <td>12347</td>\n",
              "      <td>3</td>\n",
              "      <td>222</td>\n",
              "      <td>4921.53</td>\n",
              "      <td>4</td>\n",
              "      <td>4</td>\n",
              "      <td>4</td>\n",
              "      <td>444</td>\n",
              "    </tr>\n",
              "    <tr>\n",
              "      <th>2</th>\n",
              "      <td>12348</td>\n",
              "      <td>76</td>\n",
              "      <td>51</td>\n",
              "      <td>2019.40</td>\n",
              "      <td>3</td>\n",
              "      <td>2</td>\n",
              "      <td>3</td>\n",
              "      <td>323</td>\n",
              "    </tr>\n",
              "    <tr>\n",
              "      <th>3</th>\n",
              "      <td>12349</td>\n",
              "      <td>19</td>\n",
              "      <td>180</td>\n",
              "      <td>4452.84</td>\n",
              "      <td>4</td>\n",
              "      <td>4</td>\n",
              "      <td>4</td>\n",
              "      <td>444</td>\n",
              "    </tr>\n",
              "    <tr>\n",
              "      <th>4</th>\n",
              "      <td>12350</td>\n",
              "      <td>311</td>\n",
              "      <td>17</td>\n",
              "      <td>334.40</td>\n",
              "      <td>2</td>\n",
              "      <td>1</td>\n",
              "      <td>1</td>\n",
              "      <td>211</td>\n",
              "    </tr>\n",
              "  </tbody>\n",
              "</table>\n",
              "</div>"
            ],
            "text/plain": [
              "   Customer ID  Recency  Frequency   Monetary  R Value  F Value  M Value  \\\n",
              "0  12346        326      47         155164.66  2        2        4         \n",
              "1  12347        3        222        4921.53    4        4        4         \n",
              "2  12348        76       51         2019.40    3        2        3         \n",
              "3  12349        19       180        4452.84    4        4        4         \n",
              "4  12350        311      17         334.40     2        1        1         \n",
              "\n",
              "  RFM Score  \n",
              "0  224       \n",
              "1  444       \n",
              "2  323       \n",
              "3  444       \n",
              "4  211       "
            ]
          },
          "metadata": {
            "tags": []
          },
          "execution_count": 49
        }
      ]
    },
    {
      "cell_type": "markdown",
      "metadata": {
        "id": "7UjNf7zL5M63",
        "colab_type": "text"
      },
      "source": [
        "**Finally we can see important customers.**"
      ]
    },
    {
      "cell_type": "code",
      "metadata": {
        "id": "aszyQWKZ4Ycu",
        "colab_type": "code",
        "colab": {
          "base_uri": "https://localhost:8080/",
          "height": 195
        },
        "outputId": "8e4e4980-806c-48a1-f2e4-c768f4c5275f"
      },
      "source": [
        "rmf_table[rmf_table['RFM Score'] == '444'].head()"
      ],
      "execution_count": 50,
      "outputs": [
        {
          "output_type": "execute_result",
          "data": {
            "text/html": [
              "<div>\n",
              "<style scoped>\n",
              "    .dataframe tbody tr th:only-of-type {\n",
              "        vertical-align: middle;\n",
              "    }\n",
              "\n",
              "    .dataframe tbody tr th {\n",
              "        vertical-align: top;\n",
              "    }\n",
              "\n",
              "    .dataframe thead th {\n",
              "        text-align: right;\n",
              "    }\n",
              "</style>\n",
              "<table border=\"1\" class=\"dataframe\">\n",
              "  <thead>\n",
              "    <tr style=\"text-align: right;\">\n",
              "      <th></th>\n",
              "      <th>Customer ID</th>\n",
              "      <th>Recency</th>\n",
              "      <th>Frequency</th>\n",
              "      <th>Monetary</th>\n",
              "      <th>R Value</th>\n",
              "      <th>F Value</th>\n",
              "      <th>M Value</th>\n",
              "      <th>RFM Score</th>\n",
              "    </tr>\n",
              "  </thead>\n",
              "  <tbody>\n",
              "    <tr>\n",
              "      <th>1</th>\n",
              "      <td>12347</td>\n",
              "      <td>3</td>\n",
              "      <td>222</td>\n",
              "      <td>4921.53</td>\n",
              "      <td>4</td>\n",
              "      <td>4</td>\n",
              "      <td>4</td>\n",
              "      <td>444</td>\n",
              "    </tr>\n",
              "    <tr>\n",
              "      <th>3</th>\n",
              "      <td>12349</td>\n",
              "      <td>19</td>\n",
              "      <td>180</td>\n",
              "      <td>4452.84</td>\n",
              "      <td>4</td>\n",
              "      <td>4</td>\n",
              "      <td>4</td>\n",
              "      <td>444</td>\n",
              "    </tr>\n",
              "    <tr>\n",
              "      <th>10</th>\n",
              "      <td>12356</td>\n",
              "      <td>23</td>\n",
              "      <td>142</td>\n",
              "      <td>6371.73</td>\n",
              "      <td>4</td>\n",
              "      <td>4</td>\n",
              "      <td>4</td>\n",
              "      <td>444</td>\n",
              "    </tr>\n",
              "    <tr>\n",
              "      <th>13</th>\n",
              "      <td>12359</td>\n",
              "      <td>8</td>\n",
              "      <td>372</td>\n",
              "      <td>9094.44</td>\n",
              "      <td>4</td>\n",
              "      <td>4</td>\n",
              "      <td>4</td>\n",
              "      <td>444</td>\n",
              "    </tr>\n",
              "    <tr>\n",
              "      <th>16</th>\n",
              "      <td>12362</td>\n",
              "      <td>4</td>\n",
              "      <td>275</td>\n",
              "      <td>5427.88</td>\n",
              "      <td>4</td>\n",
              "      <td>4</td>\n",
              "      <td>4</td>\n",
              "      <td>444</td>\n",
              "    </tr>\n",
              "  </tbody>\n",
              "</table>\n",
              "</div>"
            ],
            "text/plain": [
              "    Customer ID  Recency  Frequency  Monetary  R Value  F Value  M Value  \\\n",
              "1   12347        3        222        4921.53   4        4        4         \n",
              "3   12349        19       180        4452.84   4        4        4         \n",
              "10  12356        23       142        6371.73   4        4        4         \n",
              "13  12359        8        372        9094.44   4        4        4         \n",
              "16  12362        4        275        5427.88   4        4        4         \n",
              "\n",
              "   RFM Score  \n",
              "1   444       \n",
              "3   444       \n",
              "10  444       \n",
              "13  444       \n",
              "16  444       "
            ]
          },
          "metadata": {
            "tags": []
          },
          "execution_count": 50
        }
      ]
    },
    {
      "cell_type": "markdown",
      "metadata": {
        "id": "tX1lEcbLCPpZ",
        "colab_type": "text"
      },
      "source": [
        "**Observation:**\n",
        "\n",
        "- We can match respective customers with this tables to identify important customers.\n",
        "\n",
        "|#|Segment|RFM|Description|Marketing|\n",
        "| :-- | :-- | :-- | :-- | :-- |\n",
        "|01|Best Customers|444|Bought most recently and most often, and spend the most|No price incentives, new products and loyalty programs.|\n",
        "|02|Loyal Customers|X4X|Buys most frequently|Use R and F to further segment.|\n",
        "|03|Big Spenders|XX4|Spends the most|Market your most expensive products.|\n",
        "|04|Almost Lost|244|Haven't purchased for sometime, but purchased frequently and spend the most|Aggresive price incentives.|\n",
        "|05|Lost Customers|144|Haven't puchased for some time, but purchased frequently and spend the most|Aggressive price incentives.|\n",
        "|06|Lost Cheap Customers|111|Last purchase long ago, purchased few, and spent little.|Don't spend too much trying to re-acquire.|"
      ]
    },
    {
      "cell_type": "markdown",
      "metadata": {
        "id": "FT21bHNBR2Yx",
        "colab_type": "text"
      },
      "source": [
        "<a id = Section8></a>\n",
        "\n",
        "---\n",
        "# **8. Conclusion**\n",
        "---"
      ]
    },
    {
      "cell_type": "markdown",
      "metadata": {
        "id": "2D3wDuUt_17x",
        "colab_type": "text"
      },
      "source": [
        "- We **studied in depth about the data**, its **characteristics** and its **distribution**.\n",
        "\n",
        "- We **explored various questions** related to the **customer behaviour** and their **residency** and **buying habits**.\n",
        "\n",
        "- We **adopted two techniques** to **solve** this **business problem**:\n",
        "  - Using K-Means\n",
        "  - Using RFM (Recency Frequency Monetary)\n",
        "  \n",
        "- **Both** are **used widely**, but **RFM is much better** than automating the whole solution **because** we are **more precise** in **identifying** the **customer** frequent **buying habits** and their **spend**."
      ]
    }
  ]
}